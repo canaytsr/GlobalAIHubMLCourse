{
  "nbformat": 4,
  "nbformat_minor": 0,
  "metadata": {
    "colab": {
      "name": "Final_Project.ipynb",
      "provenance": [],
      "collapsed_sections": []
    },
    "kernelspec": {
      "name": "python3",
      "display_name": "Python 3"
    }
  },
  "cells": [
    {
      "cell_type": "markdown",
      "metadata": {
        "id": "qBpcg5VQAo9O"
      },
      "source": [
        "# **Project**\r\n",
        "In this project, our aim is to building a model for predicting wine qualities. Our label will be quality column. **Do not forget, this is a Classification problem!**\r\n",
        "\r\n",
        "# **Steps**\r\n",
        "\r\n",
        "* Read the winequality.csv file and describe it.\r\n",
        "* Make at least 4 different analysis on Exploratory Data Analysis section.\r\n",
        "* Pre-process the dataset to get ready for ML application. (Check missing data and handle them, can we need to do scaling or feature extraction etc.)\r\n",
        "* Define appropriate evaluation metric for our case (classification).\r\n",
        "Train and evaluate Decision Trees and at least 2 different appropriate algorithm which you can choose from scikit-learn library.\r\n",
        "* Check if is there any overfitting and underfitting. Interpret your results and try to overcome if there is any problem in a new section.\r\n",
        "* Create confusion metrics for each algorithm and display Accuracy, Recall, Precision and F1-Score values.\r\n",
        "* Analyse and compare results of 3 algorithms.\r\n",
        "Select best performing model based on evaluation metric you chose on test dataset.\r\n",
        "\r\n"
      ]
    },
    {
      "cell_type": "markdown",
      "metadata": {
        "id": "fJMSTFrtoLI8"
      },
      "source": [
        "# **CANAY TAŞAR**"
      ]
    },
    {
      "cell_type": "code",
      "metadata": {
        "id": "XUJPP7YRVEA2",
        "colab": {
          "base_uri": "https://localhost:8080/"
        },
        "outputId": "2d6d322a-d33a-4f7c-d555-d3d8c58be515"
      },
      "source": [
        "# Read the winequality.csv file and describe it.\r\n",
        "import pandas as pd\r\n",
        "import numpy as np\r\n",
        "data = pd.read_csv('https://raw.githubusercontent.com/canaytsr/GlobalAIHubMLCourse/main/Final%20Project/winequality.csv')\r\n",
        "#print(data)\r\n",
        "print(data.head)\r\n",
        "print(data.info())\r\n",
        "print(data.describe())\r\n",
        "\r\n",
        "#Missing Values\r\n",
        "print(data.dropna())\r\n",
        "print(data.isnull().sum())\r\n"
      ],
      "execution_count": 530,
      "outputs": [
        {
          "output_type": "stream",
          "text": [
            "<bound method NDFrame.head of       fixed acidity  volatile acidity  citric acid  ...  sulphates  alcohol  quality\n",
            "0               7.4             0.700         0.00  ...       0.56      9.4        5\n",
            "1               7.8             0.880         0.00  ...       0.68      9.8        5\n",
            "2               7.8             0.760         0.04  ...       0.65      9.8        5\n",
            "3              11.2             0.280         0.56  ...       0.58      9.8        6\n",
            "4               7.4             0.700         0.00  ...       0.56      9.4        5\n",
            "...             ...               ...          ...  ...        ...      ...      ...\n",
            "1594            6.2             0.600         0.08  ...       0.58     10.5        5\n",
            "1595            5.9             0.550         0.10  ...       0.76     11.2        6\n",
            "1596            6.3             0.510         0.13  ...       0.75     11.0        6\n",
            "1597            5.9             0.645         0.12  ...       0.71     10.2        5\n",
            "1598            6.0             0.310         0.47  ...       0.66     11.0        6\n",
            "\n",
            "[1599 rows x 12 columns]>\n",
            "<class 'pandas.core.frame.DataFrame'>\n",
            "RangeIndex: 1599 entries, 0 to 1598\n",
            "Data columns (total 12 columns):\n",
            " #   Column                Non-Null Count  Dtype  \n",
            "---  ------                --------------  -----  \n",
            " 0   fixed acidity         1599 non-null   float64\n",
            " 1   volatile acidity      1599 non-null   float64\n",
            " 2   citric acid           1599 non-null   float64\n",
            " 3   residual sugar        1599 non-null   float64\n",
            " 4   chlorides             1599 non-null   float64\n",
            " 5   free sulfur dioxide   1599 non-null   float64\n",
            " 6   total sulfur dioxide  1599 non-null   float64\n",
            " 7   density               1599 non-null   float64\n",
            " 8   pH                    1599 non-null   float64\n",
            " 9   sulphates             1599 non-null   float64\n",
            " 10  alcohol               1599 non-null   float64\n",
            " 11  quality               1599 non-null   int64  \n",
            "dtypes: float64(11), int64(1)\n",
            "memory usage: 150.0 KB\n",
            "None\n",
            "       fixed acidity  volatile acidity  ...      alcohol      quality\n",
            "count    1599.000000       1599.000000  ...  1599.000000  1599.000000\n",
            "mean        8.319637          0.527821  ...    10.422983     5.636023\n",
            "std         1.741096          0.179060  ...     1.065668     0.807569\n",
            "min         4.600000          0.120000  ...     8.400000     3.000000\n",
            "25%         7.100000          0.390000  ...     9.500000     5.000000\n",
            "50%         7.900000          0.520000  ...    10.200000     6.000000\n",
            "75%         9.200000          0.640000  ...    11.100000     6.000000\n",
            "max        15.900000          1.580000  ...    14.900000     8.000000\n",
            "\n",
            "[8 rows x 12 columns]\n",
            "      fixed acidity  volatile acidity  citric acid  ...  sulphates  alcohol  quality\n",
            "0               7.4             0.700         0.00  ...       0.56      9.4        5\n",
            "1               7.8             0.880         0.00  ...       0.68      9.8        5\n",
            "2               7.8             0.760         0.04  ...       0.65      9.8        5\n",
            "3              11.2             0.280         0.56  ...       0.58      9.8        6\n",
            "4               7.4             0.700         0.00  ...       0.56      9.4        5\n",
            "...             ...               ...          ...  ...        ...      ...      ...\n",
            "1594            6.2             0.600         0.08  ...       0.58     10.5        5\n",
            "1595            5.9             0.550         0.10  ...       0.76     11.2        6\n",
            "1596            6.3             0.510         0.13  ...       0.75     11.0        6\n",
            "1597            5.9             0.645         0.12  ...       0.71     10.2        5\n",
            "1598            6.0             0.310         0.47  ...       0.66     11.0        6\n",
            "\n",
            "[1599 rows x 12 columns]\n",
            "fixed acidity           0\n",
            "volatile acidity        0\n",
            "citric acid             0\n",
            "residual sugar          0\n",
            "chlorides               0\n",
            "free sulfur dioxide     0\n",
            "total sulfur dioxide    0\n",
            "density                 0\n",
            "pH                      0\n",
            "sulphates               0\n",
            "alcohol                 0\n",
            "quality                 0\n",
            "dtype: int64\n"
          ],
          "name": "stdout"
        }
      ]
    },
    {
      "cell_type": "code",
      "metadata": {
        "id": "Du0v6PtnL_6e"
      },
      "source": [
        "from pprint import pprint\r\n",
        "import plotly.graph_objs as go\r\n",
        "\r\n",
        "from pandas.plotting import scatter_matrix\r\n",
        "\r\n",
        "from matplotlib.colors import ListedColormap\r\n",
        "from sklearn.tree import DecisionTreeClassifier\r\n",
        "from sklearn.discriminant_analysis import LinearDiscriminantAnalysis\r\n",
        "from sklearn.naive_bayes import GaussianNB\r\n",
        "from sklearn.linear_model import LogisticRegression\r\n",
        "\r\n",
        "from sklearn import model_selection"
      ],
      "execution_count": 531,
      "outputs": []
    },
    {
      "cell_type": "code",
      "metadata": {
        "id": "JQFXQkwnJb3i",
        "colab": {
          "base_uri": "https://localhost:8080/",
          "height": 266
        },
        "outputId": "5b5170ca-d361-4b5d-f33b-0dc7dc12c91d"
      },
      "source": [
        "data.groupby(by=\"quality\").count()"
      ],
      "execution_count": 532,
      "outputs": [
        {
          "output_type": "execute_result",
          "data": {
            "text/html": [
              "<div>\n",
              "<style scoped>\n",
              "    .dataframe tbody tr th:only-of-type {\n",
              "        vertical-align: middle;\n",
              "    }\n",
              "\n",
              "    .dataframe tbody tr th {\n",
              "        vertical-align: top;\n",
              "    }\n",
              "\n",
              "    .dataframe thead th {\n",
              "        text-align: right;\n",
              "    }\n",
              "</style>\n",
              "<table border=\"1\" class=\"dataframe\">\n",
              "  <thead>\n",
              "    <tr style=\"text-align: right;\">\n",
              "      <th></th>\n",
              "      <th>fixed acidity</th>\n",
              "      <th>volatile acidity</th>\n",
              "      <th>citric acid</th>\n",
              "      <th>residual sugar</th>\n",
              "      <th>chlorides</th>\n",
              "      <th>free sulfur dioxide</th>\n",
              "      <th>total sulfur dioxide</th>\n",
              "      <th>density</th>\n",
              "      <th>pH</th>\n",
              "      <th>sulphates</th>\n",
              "      <th>alcohol</th>\n",
              "    </tr>\n",
              "    <tr>\n",
              "      <th>quality</th>\n",
              "      <th></th>\n",
              "      <th></th>\n",
              "      <th></th>\n",
              "      <th></th>\n",
              "      <th></th>\n",
              "      <th></th>\n",
              "      <th></th>\n",
              "      <th></th>\n",
              "      <th></th>\n",
              "      <th></th>\n",
              "      <th></th>\n",
              "    </tr>\n",
              "  </thead>\n",
              "  <tbody>\n",
              "    <tr>\n",
              "      <th>3</th>\n",
              "      <td>10</td>\n",
              "      <td>10</td>\n",
              "      <td>10</td>\n",
              "      <td>10</td>\n",
              "      <td>10</td>\n",
              "      <td>10</td>\n",
              "      <td>10</td>\n",
              "      <td>10</td>\n",
              "      <td>10</td>\n",
              "      <td>10</td>\n",
              "      <td>10</td>\n",
              "    </tr>\n",
              "    <tr>\n",
              "      <th>4</th>\n",
              "      <td>53</td>\n",
              "      <td>53</td>\n",
              "      <td>53</td>\n",
              "      <td>53</td>\n",
              "      <td>53</td>\n",
              "      <td>53</td>\n",
              "      <td>53</td>\n",
              "      <td>53</td>\n",
              "      <td>53</td>\n",
              "      <td>53</td>\n",
              "      <td>53</td>\n",
              "    </tr>\n",
              "    <tr>\n",
              "      <th>5</th>\n",
              "      <td>681</td>\n",
              "      <td>681</td>\n",
              "      <td>681</td>\n",
              "      <td>681</td>\n",
              "      <td>681</td>\n",
              "      <td>681</td>\n",
              "      <td>681</td>\n",
              "      <td>681</td>\n",
              "      <td>681</td>\n",
              "      <td>681</td>\n",
              "      <td>681</td>\n",
              "    </tr>\n",
              "    <tr>\n",
              "      <th>6</th>\n",
              "      <td>638</td>\n",
              "      <td>638</td>\n",
              "      <td>638</td>\n",
              "      <td>638</td>\n",
              "      <td>638</td>\n",
              "      <td>638</td>\n",
              "      <td>638</td>\n",
              "      <td>638</td>\n",
              "      <td>638</td>\n",
              "      <td>638</td>\n",
              "      <td>638</td>\n",
              "    </tr>\n",
              "    <tr>\n",
              "      <th>7</th>\n",
              "      <td>199</td>\n",
              "      <td>199</td>\n",
              "      <td>199</td>\n",
              "      <td>199</td>\n",
              "      <td>199</td>\n",
              "      <td>199</td>\n",
              "      <td>199</td>\n",
              "      <td>199</td>\n",
              "      <td>199</td>\n",
              "      <td>199</td>\n",
              "      <td>199</td>\n",
              "    </tr>\n",
              "    <tr>\n",
              "      <th>8</th>\n",
              "      <td>18</td>\n",
              "      <td>18</td>\n",
              "      <td>18</td>\n",
              "      <td>18</td>\n",
              "      <td>18</td>\n",
              "      <td>18</td>\n",
              "      <td>18</td>\n",
              "      <td>18</td>\n",
              "      <td>18</td>\n",
              "      <td>18</td>\n",
              "      <td>18</td>\n",
              "    </tr>\n",
              "  </tbody>\n",
              "</table>\n",
              "</div>"
            ],
            "text/plain": [
              "         fixed acidity  volatile acidity  citric acid  ...   pH  sulphates  alcohol\n",
              "quality                                                ...                         \n",
              "3                   10                10           10  ...   10         10       10\n",
              "4                   53                53           53  ...   53         53       53\n",
              "5                  681               681          681  ...  681        681      681\n",
              "6                  638               638          638  ...  638        638      638\n",
              "7                  199               199          199  ...  199        199      199\n",
              "8                   18                18           18  ...   18         18       18\n",
              "\n",
              "[6 rows x 11 columns]"
            ]
          },
          "metadata": {
            "tags": []
          },
          "execution_count": 532
        }
      ]
    },
    {
      "cell_type": "markdown",
      "metadata": {
        "id": "kqgpJVRGOp4C"
      },
      "source": [
        "#**Exploratory Data Analysis** \r\n"
      ]
    },
    {
      "cell_type": "code",
      "metadata": {
        "colab": {
          "base_uri": "https://localhost:8080/",
          "height": 334
        },
        "id": "9qTxmKj0MtHz",
        "outputId": "d868dde1-3aa2-4373-ab86-a04f5972b815"
      },
      "source": [
        "# Our label distribution (countplot)\r\n",
        "from plotly.offline import iplot\r\n",
        "import seaborn as sns\r\n",
        "import matplotlib.pyplot as plt\r\n",
        "plt.figure(figsize=(6, 5))\r\n",
        "sns.countplot(x ='quality', data = data)\r\n",
        "plt.show()"
      ],
      "execution_count": 533,
      "outputs": [
        {
          "output_type": "display_data",
          "data": {
            "image/png": "[encoded data removed]",
            "text/plain": [
              "<Figure size 432x360 with 1 Axes>"
            ]
          },
          "metadata": {
            "tags": [],
            "needs_background": "light"
          }
        }
      ]
    },
    {
      "cell_type": "code",
      "metadata": {
        "colab": {
          "base_uri": "https://localhost:8080/",
          "height": 279
        },
        "id": "w3k2Cm82Sq3p",
        "outputId": "1d5777b1-b8da-4918-beae-282bbbe67908"
      },
      "source": [
        "# Example EDA (distplot)\r\n",
        "import seaborn as sns, numpy as np\r\n",
        "sns.distplot(data['citric acid'])           \r\n",
        "plt.show()"
      ],
      "execution_count": 534,
      "outputs": [
        {
          "output_type": "display_data",
          "data": {
            "image/png": "[encoded data removed]",
            "text/plain": [
              "<Figure size 432x288 with 1 Axes>"
            ]
          },
          "metadata": {
            "tags": [],
            "needs_background": "light"
          }
        }
      ]
    },
    {
      "cell_type": "code",
      "metadata": {
        "colab": {
          "base_uri": "https://localhost:8080/",
          "height": 659
        },
        "id": "NUftLaOZJmK2",
        "outputId": "3b604b50-5b44-474c-b5c9-2879d12f1d2e"
      },
      "source": [
        "colum_names = ['fixed acidity', 'volatile acidity', 'citric acid', 'residual sugar', 'chlorides', 'free sulfur dioxide', 'total sulfur dioxide', 'density', 'pH', 'sulphates', 'alcohol', 'quality']\r\n",
        "correlations = data.corr()\r\n",
        "\r\n",
        "fig, ax = plt.subplots(figsize=(10, 10))\r\n",
        "colormap = sns.diverging_palette(220, 10, as_cmap=True)\r\n",
        "sns.heatmap(correlations, cmap=colormap, annot=True, fmt=\".2f\")\r\n",
        "ax.set_xticklabels(colum_names,rotation=45,horizontalalignment='right');\r\n",
        "ax.set_yticklabels(colum_names);\r\n",
        "plt.show()\r\n"
      ],
      "execution_count": 535,
      "outputs": [
        {
          "output_type": "display_data",
          "data": {
            "image/png": "[encoded data removed]",
            "text/plain": [
              "<Figure size 720x720 with 2 Axes>"
            ]
          },
          "metadata": {
            "tags": [],
            "needs_background": "light"
          }
        }
      ]
    },
    {
      "cell_type": "markdown",
      "metadata": {
        "id": "mmlM08ToXVI-"
      },
      "source": [
        "# **Preprocessing**"
      ]
    },
    {
      "cell_type": "code",
      "metadata": {
        "colab": {
          "base_uri": "https://localhost:8080/",
          "height": 640
        },
        "id": "QWe7Gqf3J0VR",
        "outputId": "a6129a59-28f5-49a7-c988-49dfaf438da2"
      },
      "source": [
        "print(data.duplicated())#True value for each duplicated row\r\n",
        "data.drop_duplicates()"
      ],
      "execution_count": 536,
      "outputs": [
        {
          "output_type": "stream",
          "text": [
            "0       False\n",
            "1       False\n",
            "2       False\n",
            "3       False\n",
            "4        True\n",
            "        ...  \n",
            "1594    False\n",
            "1595    False\n",
            "1596     True\n",
            "1597    False\n",
            "1598    False\n",
            "Length: 1599, dtype: bool\n"
          ],
          "name": "stdout"
        },
        {
          "output_type": "execute_result",
          "data": {
            "text/html": [
              "<div>\n",
              "<style scoped>\n",
              "    .dataframe tbody tr th:only-of-type {\n",
              "        vertical-align: middle;\n",
              "    }\n",
              "\n",
              "    .dataframe tbody tr th {\n",
              "        vertical-align: top;\n",
              "    }\n",
              "\n",
              "    .dataframe thead th {\n",
              "        text-align: right;\n",
              "    }\n",
              "</style>\n",
              "<table border=\"1\" class=\"dataframe\">\n",
              "  <thead>\n",
              "    <tr style=\"text-align: right;\">\n",
              "      <th></th>\n",
              "      <th>fixed acidity</th>\n",
              "      <th>volatile acidity</th>\n",
              "      <th>citric acid</th>\n",
              "      <th>residual sugar</th>\n",
              "      <th>chlorides</th>\n",
              "      <th>free sulfur dioxide</th>\n",
              "      <th>total sulfur dioxide</th>\n",
              "      <th>density</th>\n",
              "      <th>pH</th>\n",
              "      <th>sulphates</th>\n",
              "      <th>alcohol</th>\n",
              "      <th>quality</th>\n",
              "    </tr>\n",
              "  </thead>\n",
              "  <tbody>\n",
              "    <tr>\n",
              "      <th>0</th>\n",
              "      <td>7.4</td>\n",
              "      <td>0.700</td>\n",
              "      <td>0.00</td>\n",
              "      <td>1.9</td>\n",
              "      <td>0.076</td>\n",
              "      <td>11.0</td>\n",
              "      <td>34.0</td>\n",
              "      <td>0.99780</td>\n",
              "      <td>3.51</td>\n",
              "      <td>0.56</td>\n",
              "      <td>9.4</td>\n",
              "      <td>5</td>\n",
              "    </tr>\n",
              "    <tr>\n",
              "      <th>1</th>\n",
              "      <td>7.8</td>\n",
              "      <td>0.880</td>\n",
              "      <td>0.00</td>\n",
              "      <td>2.6</td>\n",
              "      <td>0.098</td>\n",
              "      <td>25.0</td>\n",
              "      <td>67.0</td>\n",
              "      <td>0.99680</td>\n",
              "      <td>3.20</td>\n",
              "      <td>0.68</td>\n",
              "      <td>9.8</td>\n",
              "      <td>5</td>\n",
              "    </tr>\n",
              "    <tr>\n",
              "      <th>2</th>\n",
              "      <td>7.8</td>\n",
              "      <td>0.760</td>\n",
              "      <td>0.04</td>\n",
              "      <td>2.3</td>\n",
              "      <td>0.092</td>\n",
              "      <td>15.0</td>\n",
              "      <td>54.0</td>\n",
              "      <td>0.99700</td>\n",
              "      <td>3.26</td>\n",
              "      <td>0.65</td>\n",
              "      <td>9.8</td>\n",
              "      <td>5</td>\n",
              "    </tr>\n",
              "    <tr>\n",
              "      <th>3</th>\n",
              "      <td>11.2</td>\n",
              "      <td>0.280</td>\n",
              "      <td>0.56</td>\n",
              "      <td>1.9</td>\n",
              "      <td>0.075</td>\n",
              "      <td>17.0</td>\n",
              "      <td>60.0</td>\n",
              "      <td>0.99800</td>\n",
              "      <td>3.16</td>\n",
              "      <td>0.58</td>\n",
              "      <td>9.8</td>\n",
              "      <td>6</td>\n",
              "    </tr>\n",
              "    <tr>\n",
              "      <th>5</th>\n",
              "      <td>7.4</td>\n",
              "      <td>0.660</td>\n",
              "      <td>0.00</td>\n",
              "      <td>1.8</td>\n",
              "      <td>0.075</td>\n",
              "      <td>13.0</td>\n",
              "      <td>40.0</td>\n",
              "      <td>0.99780</td>\n",
              "      <td>3.51</td>\n",
              "      <td>0.56</td>\n",
              "      <td>9.4</td>\n",
              "      <td>5</td>\n",
              "    </tr>\n",
              "    <tr>\n",
              "      <th>...</th>\n",
              "      <td>...</td>\n",
              "      <td>...</td>\n",
              "      <td>...</td>\n",
              "      <td>...</td>\n",
              "      <td>...</td>\n",
              "      <td>...</td>\n",
              "      <td>...</td>\n",
              "      <td>...</td>\n",
              "      <td>...</td>\n",
              "      <td>...</td>\n",
              "      <td>...</td>\n",
              "      <td>...</td>\n",
              "    </tr>\n",
              "    <tr>\n",
              "      <th>1593</th>\n",
              "      <td>6.8</td>\n",
              "      <td>0.620</td>\n",
              "      <td>0.08</td>\n",
              "      <td>1.9</td>\n",
              "      <td>0.068</td>\n",
              "      <td>28.0</td>\n",
              "      <td>38.0</td>\n",
              "      <td>0.99651</td>\n",
              "      <td>3.42</td>\n",
              "      <td>0.82</td>\n",
              "      <td>9.5</td>\n",
              "      <td>6</td>\n",
              "    </tr>\n",
              "    <tr>\n",
              "      <th>1594</th>\n",
              "      <td>6.2</td>\n",
              "      <td>0.600</td>\n",
              "      <td>0.08</td>\n",
              "      <td>2.0</td>\n",
              "      <td>0.090</td>\n",
              "      <td>32.0</td>\n",
              "      <td>44.0</td>\n",
              "      <td>0.99490</td>\n",
              "      <td>3.45</td>\n",
              "      <td>0.58</td>\n",
              "      <td>10.5</td>\n",
              "      <td>5</td>\n",
              "    </tr>\n",
              "    <tr>\n",
              "      <th>1595</th>\n",
              "      <td>5.9</td>\n",
              "      <td>0.550</td>\n",
              "      <td>0.10</td>\n",
              "      <td>2.2</td>\n",
              "      <td>0.062</td>\n",
              "      <td>39.0</td>\n",
              "      <td>51.0</td>\n",
              "      <td>0.99512</td>\n",
              "      <td>3.52</td>\n",
              "      <td>0.76</td>\n",
              "      <td>11.2</td>\n",
              "      <td>6</td>\n",
              "    </tr>\n",
              "    <tr>\n",
              "      <th>1597</th>\n",
              "      <td>5.9</td>\n",
              "      <td>0.645</td>\n",
              "      <td>0.12</td>\n",
              "      <td>2.0</td>\n",
              "      <td>0.075</td>\n",
              "      <td>32.0</td>\n",
              "      <td>44.0</td>\n",
              "      <td>0.99547</td>\n",
              "      <td>3.57</td>\n",
              "      <td>0.71</td>\n",
              "      <td>10.2</td>\n",
              "      <td>5</td>\n",
              "    </tr>\n",
              "    <tr>\n",
              "      <th>1598</th>\n",
              "      <td>6.0</td>\n",
              "      <td>0.310</td>\n",
              "      <td>0.47</td>\n",
              "      <td>3.6</td>\n",
              "      <td>0.067</td>\n",
              "      <td>18.0</td>\n",
              "      <td>42.0</td>\n",
              "      <td>0.99549</td>\n",
              "      <td>3.39</td>\n",
              "      <td>0.66</td>\n",
              "      <td>11.0</td>\n",
              "      <td>6</td>\n",
              "    </tr>\n",
              "  </tbody>\n",
              "</table>\n",
              "<p>1359 rows × 12 columns</p>\n",
              "</div>"
            ],
            "text/plain": [
              "      fixed acidity  volatile acidity  citric acid  ...  sulphates  alcohol  quality\n",
              "0               7.4             0.700         0.00  ...       0.56      9.4        5\n",
              "1               7.8             0.880         0.00  ...       0.68      9.8        5\n",
              "2               7.8             0.760         0.04  ...       0.65      9.8        5\n",
              "3              11.2             0.280         0.56  ...       0.58      9.8        6\n",
              "5               7.4             0.660         0.00  ...       0.56      9.4        5\n",
              "...             ...               ...          ...  ...        ...      ...      ...\n",
              "1593            6.8             0.620         0.08  ...       0.82      9.5        6\n",
              "1594            6.2             0.600         0.08  ...       0.58     10.5        5\n",
              "1595            5.9             0.550         0.10  ...       0.76     11.2        6\n",
              "1597            5.9             0.645         0.12  ...       0.71     10.2        5\n",
              "1598            6.0             0.310         0.47  ...       0.66     11.0        6\n",
              "\n",
              "[1359 rows x 12 columns]"
            ]
          },
          "metadata": {
            "tags": []
          },
          "execution_count": 536
        }
      ]
    },
    {
      "cell_type": "code",
      "metadata": {
        "id": "R0GSqnGIMTVV"
      },
      "source": [
        "from sklearn.preprocessing import StandardScaler, LabelEncoder\r\n",
        "from sklearn.model_selection import train_test_split, GridSearchCV, RandomizedSearchCV, cross_val_score\r\n",
        "\r\n",
        "label_quality = LabelEncoder()\r\n",
        "# Bad becomes 0 and good becomes 1\r\n",
        "data['quality'] = label_quality.fit_transform(data['quality'])\r\n",
        "data['quality'].value_counts()\r\n",
        "\r\n",
        "X = data.drop('quality', axis=1)\r\n",
        "y = data['quality']"
      ],
      "execution_count": 537,
      "outputs": []
    },
    {
      "cell_type": "code",
      "metadata": {
        "id": "D3noI3JtNXEV",
        "colab": {
          "base_uri": "https://localhost:8080/",
          "height": 419
        },
        "outputId": "6b909f5c-3a58-468c-8999-f3b32bf929a2"
      },
      "source": [
        "from sklearn.model_selection import train_test_split\r\n",
        "X_train, X_test, y_train,y_test=train_test_split(X, y,train_size=0.7, test_size=0.3, random_state=40) \r\n",
        "X_test\r\n"
      ],
      "execution_count": 538,
      "outputs": [
        {
          "output_type": "execute_result",
          "data": {
            "text/html": [
              "<div>\n",
              "<style scoped>\n",
              "    .dataframe tbody tr th:only-of-type {\n",
              "        vertical-align: middle;\n",
              "    }\n",
              "\n",
              "    .dataframe tbody tr th {\n",
              "        vertical-align: top;\n",
              "    }\n",
              "\n",
              "    .dataframe thead th {\n",
              "        text-align: right;\n",
              "    }\n",
              "</style>\n",
              "<table border=\"1\" class=\"dataframe\">\n",
              "  <thead>\n",
              "    <tr style=\"text-align: right;\">\n",
              "      <th></th>\n",
              "      <th>fixed acidity</th>\n",
              "      <th>volatile acidity</th>\n",
              "      <th>citric acid</th>\n",
              "      <th>residual sugar</th>\n",
              "      <th>chlorides</th>\n",
              "      <th>free sulfur dioxide</th>\n",
              "      <th>total sulfur dioxide</th>\n",
              "      <th>density</th>\n",
              "      <th>pH</th>\n",
              "      <th>sulphates</th>\n",
              "      <th>alcohol</th>\n",
              "    </tr>\n",
              "  </thead>\n",
              "  <tbody>\n",
              "    <tr>\n",
              "      <th>1035</th>\n",
              "      <td>10.1</td>\n",
              "      <td>0.37</td>\n",
              "      <td>0.34</td>\n",
              "      <td>2.4</td>\n",
              "      <td>0.085</td>\n",
              "      <td>5.0</td>\n",
              "      <td>17.0</td>\n",
              "      <td>0.99683</td>\n",
              "      <td>3.17</td>\n",
              "      <td>0.65</td>\n",
              "      <td>10.6</td>\n",
              "    </tr>\n",
              "    <tr>\n",
              "      <th>49</th>\n",
              "      <td>5.6</td>\n",
              "      <td>0.31</td>\n",
              "      <td>0.37</td>\n",
              "      <td>1.4</td>\n",
              "      <td>0.074</td>\n",
              "      <td>12.0</td>\n",
              "      <td>96.0</td>\n",
              "      <td>0.99540</td>\n",
              "      <td>3.32</td>\n",
              "      <td>0.58</td>\n",
              "      <td>9.2</td>\n",
              "    </tr>\n",
              "    <tr>\n",
              "      <th>799</th>\n",
              "      <td>9.4</td>\n",
              "      <td>0.50</td>\n",
              "      <td>0.34</td>\n",
              "      <td>3.6</td>\n",
              "      <td>0.082</td>\n",
              "      <td>5.0</td>\n",
              "      <td>14.0</td>\n",
              "      <td>0.99870</td>\n",
              "      <td>3.29</td>\n",
              "      <td>0.52</td>\n",
              "      <td>10.7</td>\n",
              "    </tr>\n",
              "    <tr>\n",
              "      <th>538</th>\n",
              "      <td>12.9</td>\n",
              "      <td>0.35</td>\n",
              "      <td>0.49</td>\n",
              "      <td>5.8</td>\n",
              "      <td>0.066</td>\n",
              "      <td>5.0</td>\n",
              "      <td>35.0</td>\n",
              "      <td>1.00140</td>\n",
              "      <td>3.20</td>\n",
              "      <td>0.66</td>\n",
              "      <td>12.0</td>\n",
              "    </tr>\n",
              "    <tr>\n",
              "      <th>660</th>\n",
              "      <td>7.2</td>\n",
              "      <td>0.52</td>\n",
              "      <td>0.07</td>\n",
              "      <td>1.4</td>\n",
              "      <td>0.074</td>\n",
              "      <td>5.0</td>\n",
              "      <td>20.0</td>\n",
              "      <td>0.99730</td>\n",
              "      <td>3.32</td>\n",
              "      <td>0.81</td>\n",
              "      <td>9.6</td>\n",
              "    </tr>\n",
              "    <tr>\n",
              "      <th>...</th>\n",
              "      <td>...</td>\n",
              "      <td>...</td>\n",
              "      <td>...</td>\n",
              "      <td>...</td>\n",
              "      <td>...</td>\n",
              "      <td>...</td>\n",
              "      <td>...</td>\n",
              "      <td>...</td>\n",
              "      <td>...</td>\n",
              "      <td>...</td>\n",
              "      <td>...</td>\n",
              "    </tr>\n",
              "    <tr>\n",
              "      <th>26</th>\n",
              "      <td>7.6</td>\n",
              "      <td>0.41</td>\n",
              "      <td>0.24</td>\n",
              "      <td>1.8</td>\n",
              "      <td>0.080</td>\n",
              "      <td>4.0</td>\n",
              "      <td>11.0</td>\n",
              "      <td>0.99620</td>\n",
              "      <td>3.28</td>\n",
              "      <td>0.59</td>\n",
              "      <td>9.5</td>\n",
              "    </tr>\n",
              "    <tr>\n",
              "      <th>1152</th>\n",
              "      <td>8.3</td>\n",
              "      <td>0.60</td>\n",
              "      <td>0.25</td>\n",
              "      <td>2.2</td>\n",
              "      <td>0.118</td>\n",
              "      <td>9.0</td>\n",
              "      <td>38.0</td>\n",
              "      <td>0.99616</td>\n",
              "      <td>3.15</td>\n",
              "      <td>0.53</td>\n",
              "      <td>9.8</td>\n",
              "    </tr>\n",
              "    <tr>\n",
              "      <th>868</th>\n",
              "      <td>6.8</td>\n",
              "      <td>0.56</td>\n",
              "      <td>0.22</td>\n",
              "      <td>1.8</td>\n",
              "      <td>0.074</td>\n",
              "      <td>15.0</td>\n",
              "      <td>24.0</td>\n",
              "      <td>0.99438</td>\n",
              "      <td>3.40</td>\n",
              "      <td>0.82</td>\n",
              "      <td>11.2</td>\n",
              "    </tr>\n",
              "    <tr>\n",
              "      <th>686</th>\n",
              "      <td>7.1</td>\n",
              "      <td>0.65</td>\n",
              "      <td>0.18</td>\n",
              "      <td>1.8</td>\n",
              "      <td>0.070</td>\n",
              "      <td>13.0</td>\n",
              "      <td>40.0</td>\n",
              "      <td>0.99700</td>\n",
              "      <td>3.44</td>\n",
              "      <td>0.60</td>\n",
              "      <td>9.1</td>\n",
              "    </tr>\n",
              "    <tr>\n",
              "      <th>970</th>\n",
              "      <td>10.4</td>\n",
              "      <td>0.26</td>\n",
              "      <td>0.48</td>\n",
              "      <td>1.9</td>\n",
              "      <td>0.066</td>\n",
              "      <td>6.0</td>\n",
              "      <td>10.0</td>\n",
              "      <td>0.99724</td>\n",
              "      <td>3.33</td>\n",
              "      <td>0.87</td>\n",
              "      <td>10.9</td>\n",
              "    </tr>\n",
              "  </tbody>\n",
              "</table>\n",
              "<p>480 rows × 11 columns</p>\n",
              "</div>"
            ],
            "text/plain": [
              "      fixed acidity  volatile acidity  citric acid  ...    pH  sulphates  alcohol\n",
              "1035           10.1              0.37         0.34  ...  3.17       0.65     10.6\n",
              "49              5.6              0.31         0.37  ...  3.32       0.58      9.2\n",
              "799             9.4              0.50         0.34  ...  3.29       0.52     10.7\n",
              "538            12.9              0.35         0.49  ...  3.20       0.66     12.0\n",
              "660             7.2              0.52         0.07  ...  3.32       0.81      9.6\n",
              "...             ...               ...          ...  ...   ...        ...      ...\n",
              "26              7.6              0.41         0.24  ...  3.28       0.59      9.5\n",
              "1152            8.3              0.60         0.25  ...  3.15       0.53      9.8\n",
              "868             6.8              0.56         0.22  ...  3.40       0.82     11.2\n",
              "686             7.1              0.65         0.18  ...  3.44       0.60      9.1\n",
              "970            10.4              0.26         0.48  ...  3.33       0.87     10.9\n",
              "\n",
              "[480 rows x 11 columns]"
            ]
          },
          "metadata": {
            "tags": []
          },
          "execution_count": 538
        }
      ]
    },
    {
      "cell_type": "code",
      "metadata": {
        "colab": {
          "base_uri": "https://localhost:8080/"
        },
        "id": "mk-6Kiyy7GyI",
        "outputId": "08cae228-916b-424f-d833-23bf7df47f00"
      },
      "source": [
        "sc = StandardScaler()\r\n",
        "X_train = sc.fit_transform(X_train)\r\n",
        "X_test = sc.fit_transform(X_test)\r\n",
        "X_test"
      ],
      "execution_count": 539,
      "outputs": [
        {
          "output_type": "execute_result",
          "data": {
            "text/plain": [
              "array([[ 0.98155643, -0.8662908 ,  0.34794682, ..., -0.87537342,\n",
              "        -0.08154985,  0.10962118],\n",
              "       [-1.5557364 , -1.20167425,  0.50330913, ...,  0.09906823,\n",
              "        -0.49421173, -1.1439029 ],\n",
              "       [ 0.58686644, -0.13962665,  0.34794682, ..., -0.0958201 ,\n",
              "        -0.84792192,  0.19915861],\n",
              "       ...,\n",
              "       [-0.87912498,  0.1957568 , -0.27350239, ...,  0.61877045,\n",
              "         0.92062901,  0.64684579],\n",
              "       [-0.70997213,  0.69883198, -0.48065212, ...,  0.87862155,\n",
              "        -0.37630834, -1.23344034],\n",
              "       [ 1.15070929, -1.48116046,  1.0729709 , ...,  0.16403101,\n",
              "         1.2153875 ,  0.37823348]])"
            ]
          },
          "metadata": {
            "tags": []
          },
          "execution_count": 539
        }
      ]
    },
    {
      "cell_type": "code",
      "metadata": {
        "id": "niIGdHzkN_X9",
        "colab": {
          "base_uri": "https://localhost:8080/"
        },
        "outputId": "66eeb5e7-7005-4b5f-bb32-fe3c80b4f34e"
      },
      "source": [
        "corr_matrix = data.corr()\r\n",
        "print(corr_matrix[\"quality\"].sort_values(ascending=False))"
      ],
      "execution_count": 542,
      "outputs": [
        {
          "output_type": "stream",
          "text": [
            "quality                 1.000000\n",
            "alcohol                 0.476166\n",
            "sulphates               0.251397\n",
            "citric acid             0.226373\n",
            "fixed acidity           0.124052\n",
            "residual sugar          0.013732\n",
            "free sulfur dioxide    -0.050656\n",
            "pH                     -0.057731\n",
            "chlorides              -0.128907\n",
            "density                -0.174919\n",
            "total sulfur dioxide   -0.185100\n",
            "volatile acidity       -0.390558\n",
            "Name: quality, dtype: float64\n"
          ],
          "name": "stdout"
        }
      ]
    },
    {
      "cell_type": "markdown",
      "metadata": {
        "id": "jHd83pamNxAS"
      },
      "source": [
        "# **ML Application**"
      ]
    },
    {
      "cell_type": "code",
      "metadata": {
        "id": "SG5WzmhUdIRs"
      },
      "source": [
        "# import warnings filter\r\n",
        "from warnings import simplefilter\r\n",
        "# ignore all future warnings\r\n",
        "simplefilter(action='ignore', category=FutureWarning)"
      ],
      "execution_count": 543,
      "outputs": []
    },
    {
      "cell_type": "code",
      "metadata": {
        "id": "dKbVIwK7Nuku"
      },
      "source": [
        "from sklearn.svm import SVC\r\n",
        "from sklearn.linear_model import SGDClassifier\r\n",
        "from sklearn.neighbors import KNeighborsClassifier\r\n",
        "from sklearn.ensemble import RandomForestClassifier, AdaBoostClassifier\r\n",
        "\r\n",
        "from sklearn.metrics import confusion_matrix, classification_report, accuracy_score, mean_absolute_error\r\n",
        "from warnings import simplefilter\r\n",
        "\r\n",
        "# ignore all future warnings\r\n",
        "simplefilter(action='ignore', category=FutureWarning)"
      ],
      "execution_count": 544,
      "outputs": []
    },
    {
      "cell_type": "code",
      "metadata": {
        "id": "lRdCU9y2Nue-",
        "colab": {
          "base_uri": "https://localhost:8080/",
          "height": 379
        },
        "outputId": "cee7bd4c-c5bd-4ada-a86c-ce4e59963a40"
      },
      "source": [
        "from sklearn import preprocessing\r\n",
        "#scaler = preprocessing.StandardScaler().fit(X_train)\r\n",
        "#X_scaled.std(axis=0)\r\n",
        "\r\n",
        "#min_max_scaler = preprocessing.MinMaxScaler()\r\n",
        "#X_train_minmax = min_max_scaler.fit_transform(X_train)\r\n",
        "\r\n",
        "seed = 5\r\n",
        "# prepare models\r\n",
        "models = []\r\n",
        "#SupportVectorClassifier\r\n",
        "models.append(('SupportVector', SVC()))\r\n",
        "#DecisionTreeClassifier\r\n",
        "models.append(('DecisionTree', DecisionTreeClassifier()))\r\n",
        "#KNeighborsClassifier\r\n",
        "models.append(('KNeighbors', KNeighborsClassifier()))\r\n",
        "#AdaBoostClassifier\r\n",
        "models.append(('AdaBoost', AdaBoostClassifier()))\r\n",
        "#LogisticRegression\r\n",
        "models.append(('Logistic', LogisticRegression()))\r\n",
        "\r\n",
        "# evaluate each model in turn\r\n",
        "results = []\r\n",
        "names = []\r\n",
        "scoring = 'accuracy'\r\n",
        "for name, model in models:\r\n",
        "\tkfold = model_selection.KFold(n_splits=5, random_state=seed)\r\n",
        "\tcv_results = model_selection.cross_val_score(model, X_train, y_train, cv=kfold, scoring=scoring)\r\n",
        "\tresults.append(cv_results)\r\n",
        "\tnames.append(name)\r\n",
        "\tmsg = \"%s: %f (%f)\" % (name, cv_results.mean(), cv_results.std())\r\n",
        "\tprint(msg)\r\n",
        "# boxplot algorithm comparison\r\n",
        "fig = plt.figure()\r\n",
        "fig.suptitle('Prepare Models')\r\n",
        "ax = fig.add_subplot(111)\r\n",
        "plt.boxplot(results)\r\n",
        "ax.set_xticklabels(names)\r\n",
        "plt.show()\r\n"
      ],
      "execution_count": 545,
      "outputs": [
        {
          "output_type": "stream",
          "text": [
            "SupportVector: 0.605922 (0.017896)\n",
            "DecisionTree: 0.551369 (0.015559)\n",
            "KNeighbors: 0.555830 (0.027567)\n",
            "AdaBoost: 0.522754 (0.026447)\n",
            "Logistic: 0.598767 (0.012824)\n"
          ],
          "name": "stdout"
        },
        {
          "output_type": "display_data",
          "data": {
            "image/png": "[encoded data removed]",
            "text/plain": [
              "<Figure size 432x288 with 1 Axes>"
            ]
          },
          "metadata": {
            "tags": [],
            "needs_background": "light"
          }
        }
      ]
    },
    {
      "cell_type": "code",
      "metadata": {
        "colab": {
          "base_uri": "https://localhost:8080/"
        },
        "id": "J3OKfUStu-A_",
        "outputId": "eeaff03e-eecf-47d3-c162-09f861e564b4"
      },
      "source": [
        "from sklearn.tree import DecisionTreeClassifier\r\n",
        "\r\n",
        "clf = DecisionTreeClassifier(max_depth=15, random_state=0)\r\n",
        "clf.fit(X_train, y_train)\r\n",
        "print(\"Accuracy of train:\",clf.score(X_train,y_train))\r\n",
        "print(\"Accuracy of test:\",clf.score(X_test,y_test))\r\n",
        "print(\"\\nBias for training:\",1-clf.score(X_train,y_train))\r\n",
        "print(\"Bias for test:\",1-clf.score(X_test,y_test))\r\n",
        "print(\"\\nVariance:\",(1-clf.score(X_test,y_test))-(1-clf.score(X_train,y_train)))\r\n",
        "\r\n"
      ],
      "execution_count": 547,
      "outputs": [
        {
          "output_type": "stream",
          "text": [
            "Accuracy of train: 0.9874888293118856\n",
            "Accuracy of test: 0.5770833333333333\n",
            "\n",
            "Bias for training: 0.01251117068811436\n",
            "Bias for test: 0.4229166666666667\n",
            "\n",
            "Variance: 0.41040549597855236\n"
          ],
          "name": "stdout"
        }
      ]
    },
    {
      "cell_type": "markdown",
      "metadata": {
        "id": "MKYk_rmG07Ql"
      },
      "source": [
        "Underfitting problem (High bias and low variance)"
      ]
    },
    {
      "cell_type": "code",
      "metadata": {
        "colab": {
          "base_uri": "https://localhost:8080/"
        },
        "id": "PAru0IvTDK6W",
        "outputId": "38d6a717-bed0-45e9-b1ca-7e34b99b0f08"
      },
      "source": [
        "pred = clf.predict(X_test)\r\n",
        "print(classification_report(y_test,pred))"
      ],
      "execution_count": 548,
      "outputs": [
        {
          "output_type": "stream",
          "text": [
            "              precision    recall  f1-score   support\n",
            "\n",
            "           0       0.00      0.00      0.00         5\n",
            "           1       0.00      0.00      0.00        14\n",
            "           2       0.65      0.66      0.66       199\n",
            "           3       0.59      0.57      0.58       193\n",
            "           4       0.51      0.57      0.54        61\n",
            "           5       0.00      0.00      0.00         8\n",
            "\n",
            "    accuracy                           0.58       480\n",
            "   macro avg       0.29      0.30      0.30       480\n",
            "weighted avg       0.57      0.58      0.57       480\n",
            "\n"
          ],
          "name": "stdout"
        }
      ]
    },
    {
      "cell_type": "code",
      "metadata": {
        "colab": {
          "base_uri": "https://localhost:8080/"
        },
        "id": "dZ4FHjWYvX8B",
        "outputId": "cf590dce-389d-4ca3-97a2-fba0265eb733"
      },
      "source": [
        "print(\"Precision = {}\".format(precision_score(y_test, pred, average='macro')))\r\n",
        "print(\"Recall = {}\".format(recall_score(y_test, pred, average='macro')))\r\n",
        "print(\"Accuracy = {}\".format(accuracy_score(y_test, pred)))\r\n",
        "print(\"F1 Score = {}\".format(f1_score(y_test, pred,average='macro')))"
      ],
      "execution_count": 549,
      "outputs": [
        {
          "output_type": "stream",
          "text": [
            "Precision = 0.2909696843874952\n",
            "Recall = 0.30117254354105816\n",
            "Accuracy = 0.5770833333333333\n",
            "F1 Score = 0.2957072457828442\n"
          ],
          "name": "stdout"
        }
      ]
    },
    {
      "cell_type": "code",
      "metadata": {
        "colab": {
          "base_uri": "https://localhost:8080/",
          "height": 505
        },
        "id": "nCkw6FYavk-f",
        "outputId": "cb3843ae-69f5-46a6-bdd5-573c4391e300"
      },
      "source": [
        "from sklearn.metrics import confusion_matrix\r\n",
        "from sklearn.preprocessing import LabelEncoder\r\n",
        "\r\n",
        "label_encoder = LabelEncoder()\r\n",
        "data[\"Label\"] = label_encoder.fit_transform(data[\"quality\"]) \r\n",
        "data[\"Label\"].value_counts()\r\n",
        "categories = list(label_encoder.inverse_transform([0, 1, 2]))\r\n",
        "cm = confusion_matrix(y_test, pred)\r\n",
        "plt.figure(figsize=(12, 8))\r\n",
        "ax =sns.heatmap(cm, square=True, annot=True, cbar=False)\r\n",
        "ax.xaxis.set_ticklabels(categories, fontsize = 12)\r\n",
        "ax.yaxis.set_ticklabels(categories, fontsize = 12, rotation=0)\r\n",
        "ax.set_xlabel('Predicted Labels',fontsize = 15)\r\n",
        "ax.set_ylabel('True Labels',fontsize = 15)\r\n",
        "plt.show()"
      ],
      "execution_count": 550,
      "outputs": [
        {
          "output_type": "display_data",
          "data": {
            "image/png": "[encoded data removed]",
            "text/plain": [
              "<Figure size 864x576 with 1 Axes>"
            ]
          },
          "metadata": {
            "tags": [],
            "needs_background": "light"
          }
        }
      ]
    },
    {
      "cell_type": "code",
      "metadata": {
        "id": "o6uFcH5FNucA",
        "colab": {
          "base_uri": "https://localhost:8080/"
        },
        "outputId": "00d3bd01-72ec-4dde-c3d8-5409615320b9"
      },
      "source": [
        "svc = SVC()\r\n",
        "svc.fit(X_train, y_train)\r\n",
        "pred_svc = svc.predict(X_test)\r\n",
        "\r\n",
        "print(\"Accuracy of train:\",svc.score(X_train,y_train))\r\n",
        "print(\"Accuracy of test:\",svc.score(X_test,y_test),\"\\n\")"
      ],
      "execution_count": 551,
      "outputs": [
        {
          "output_type": "stream",
          "text": [
            "Accuracy of train: 0.6738159070598749\n",
            "Accuracy of test: 0.6291666666666667 \n",
            "\n"
          ],
          "name": "stdout"
        }
      ]
    },
    {
      "cell_type": "code",
      "metadata": {
        "id": "z_MpmvdUNuYt"
      },
      "source": [
        "def svc_param_selection(X, y, nfolds):\r\n",
        "    param = {\r\n",
        "        'C': [0.1, 0.8, 0.9, 1, 1.1, 1.2, 1.3, 1.4],\r\n",
        "        'kernel': ['linear', 'rbf'],\r\n",
        "        'gamma': [0.1, 0.8, 0.9, 1, 1.1, 1.2, 1.3, 1.4]\r\n",
        "    }\r\n",
        "    grid_search = GridSearchCV(svc, param_grid=param, scoring='accuracy', cv=nfolds)\r\n",
        "    grid_search.fit(X,  y)\r\n",
        "    return grid_search.best_params_"
      ],
      "execution_count": 552,
      "outputs": []
    },
    {
      "cell_type": "code",
      "metadata": {
        "id": "AqWih0wQNuVt",
        "colab": {
          "base_uri": "https://localhost:8080/"
        },
        "outputId": "34813af7-213d-4d8a-8c61-bc2805392fed"
      },
      "source": [
        "svc_param_selection(X_train, y_train,5)\r\n"
      ],
      "execution_count": 553,
      "outputs": [
        {
          "output_type": "execute_result",
          "data": {
            "text/plain": [
              "{'C': 1.1, 'gamma': 0.8, 'kernel': 'rbf'}"
            ]
          },
          "metadata": {
            "tags": []
          },
          "execution_count": 553
        }
      ]
    },
    {
      "cell_type": "code",
      "metadata": {
        "colab": {
          "base_uri": "https://localhost:8080/"
        },
        "id": "9mArNWi4at6L",
        "outputId": "1b9cfe6c-417d-4784-dab5-b2e90669ce4d"
      },
      "source": [
        "import sklearn.metrics as metrics\r\n",
        "metrics.f1_score(y_test, pred_svc2, average='macro', labels=np.unique(pred_svc2))"
      ],
      "execution_count": 554,
      "outputs": [
        {
          "output_type": "execute_result",
          "data": {
            "text/plain": [
              "0.6051787477236787"
            ]
          },
          "metadata": {
            "tags": []
          },
          "execution_count": 554
        }
      ]
    },
    {
      "cell_type": "code",
      "metadata": {
        "colab": {
          "base_uri": "https://localhost:8080/"
        },
        "id": "vLr4QsIsLOXR",
        "outputId": "44d22087-cc67-46ea-ccc2-4fd2210a8a21"
      },
      "source": [
        "\r\n",
        "clf.fit(X_train, y_train)\r\n",
        "print(\"Accuracy of train:\",clf.score(X_train,y_train))\r\n",
        "\r\n",
        "svc2 = SVC(C = 1.1, gamma =  0.8, kernel= 'rbf')\r\n",
        "svc2.fit(X_train, y_train)\r\n",
        "pred_svc2 = svc2.predict(X_test)\r\n",
        "print('Confusion matrix')\r\n",
        "print(confusion_matrix(y_test, pred_svc2))\r\n",
        "print('Classification report')\r\n",
        "print(classification_report(y_test, pred_svc2))\r\n",
        "print('Accuracy score',accuracy_score(y_test, pred_svc2),\"\\n\")\r\n"
      ],
      "execution_count": 555,
      "outputs": [
        {
          "output_type": "stream",
          "text": [
            "Accuracy of train: 0.9874888293118856\n",
            "Confusion matrix\n",
            "[[  0   0   4   1   0   0]\n",
            " [  0   0  11   3   0   0]\n",
            " [  0   0 154  45   0   0]\n",
            " [  0   0  57 130   6   0]\n",
            " [  0   0   9  31  21   0]\n",
            " [  0   0   3   4   1   0]]\n",
            "Classification report\n",
            "              precision    recall  f1-score   support\n",
            "\n",
            "           0       0.00      0.00      0.00         5\n",
            "           1       0.00      0.00      0.00        14\n",
            "           2       0.65      0.77      0.70       199\n",
            "           3       0.61      0.67      0.64       193\n",
            "           4       0.75      0.34      0.47        61\n",
            "           5       0.00      0.00      0.00         8\n",
            "\n",
            "    accuracy                           0.64       480\n",
            "   macro avg       0.33      0.30      0.30       480\n",
            "weighted avg       0.61      0.64      0.61       480\n",
            "\n",
            "Accuracy score 0.6354166666666666 \n",
            "\n"
          ],
          "name": "stdout"
        },
        {
          "output_type": "stream",
          "text": [
            "/usr/local/lib/python3.6/dist-packages/sklearn/metrics/_classification.py:1272: UndefinedMetricWarning:\n",
            "\n",
            "Precision and F-score are ill-defined and being set to 0.0 in labels with no predicted samples. Use `zero_division` parameter to control this behavior.\n",
            "\n"
          ],
          "name": "stderr"
        }
      ]
    },
    {
      "cell_type": "code",
      "metadata": {
        "id": "ADfoDpSsVJXS"
      },
      "source": [
        "#Random Forest Classifier\r\n",
        "rfc = RandomForestClassifier(n_estimators=200, max_depth=20,random_state=0)\r\n",
        "rfc.fit(X_train, y_train)\r\n",
        "pred_rfc = rfc.predict(X_test)"
      ],
      "execution_count": 556,
      "outputs": []
    },
    {
      "cell_type": "code",
      "metadata": {
        "id": "OeDxRSNVO79F",
        "colab": {
          "base_uri": "https://localhost:8080/"
        },
        "outputId": "59e94a17-266e-41b8-90bc-30c5e549b5ad"
      },
      "source": [
        "#KNeighborsClassifier\r\n",
        "n_neighbors = 2\r\n",
        "\r\n",
        "for weights in ['uniform', 'distance']:\r\n",
        "    nbrs = KNeighborsClassifier(n_neighbors=n_neighbors, weights=weights)\r\n",
        "    nbrs.fit(X_train,y_train)\r\n",
        "    pred_nbrs = nbrs.predict(X_test)\r\n",
        "    print('KNeighborsClassifier', weights)\r\n",
        "    print(classification_report(y_test, pred_nbrs))"
      ],
      "execution_count": 565,
      "outputs": [
        {
          "output_type": "stream",
          "text": [
            "KNeighborsClassifier uniform\n",
            "              precision    recall  f1-score   support\n",
            "\n",
            "           0       0.00      0.00      0.00         5\n",
            "           1       0.04      0.07      0.05        14\n",
            "           2       0.61      0.78      0.69       199\n",
            "           3       0.59      0.52      0.55       193\n",
            "           4       0.57      0.28      0.37        61\n",
            "           5       0.00      0.00      0.00         8\n",
            "\n",
            "    accuracy                           0.57       480\n",
            "   macro avg       0.30      0.27      0.28       480\n",
            "weighted avg       0.57      0.57      0.56       480\n",
            "\n",
            "KNeighborsClassifier distance\n",
            "              precision    recall  f1-score   support\n",
            "\n",
            "           0       0.00      0.00      0.00         5\n",
            "           1       0.00      0.00      0.00        14\n",
            "           2       0.68      0.72      0.70       199\n",
            "           3       0.62      0.60      0.61       193\n",
            "           4       0.50      0.51      0.50        61\n",
            "           5       0.00      0.00      0.00         8\n",
            "\n",
            "    accuracy                           0.60       480\n",
            "   macro avg       0.30      0.30      0.30       480\n",
            "weighted avg       0.60      0.60      0.60       480\n",
            "\n"
          ],
          "name": "stdout"
        },
        {
          "output_type": "stream",
          "text": [
            "/usr/local/lib/python3.6/dist-packages/sklearn/metrics/_classification.py:1272: UndefinedMetricWarning:\n",
            "\n",
            "Precision and F-score are ill-defined and being set to 0.0 in labels with no predicted samples. Use `zero_division` parameter to control this behavior.\n",
            "\n",
            "/usr/local/lib/python3.6/dist-packages/sklearn/metrics/_classification.py:1272: UndefinedMetricWarning:\n",
            "\n",
            "Precision and F-score are ill-defined and being set to 0.0 in labels with no predicted samples. Use `zero_division` parameter to control this behavior.\n",
            "\n"
          ],
          "name": "stderr"
        }
      ]
    },
    {
      "cell_type": "code",
      "metadata": {
        "id": "joiKiKHiO76I"
      },
      "source": [
        "#AdaBoostClassifier\r\n",
        "ada_classifier = AdaBoostClassifier(n_estimators=100)\r\n",
        "ada_classifier.fit(X_train, y_train)\r\n",
        "pred_ada = ada_classifier.predict(X_test)"
      ],
      "execution_count": 558,
      "outputs": []
    },
    {
      "cell_type": "code",
      "metadata": {
        "id": "UuYXyQSuy2JM"
      },
      "source": [
        "#Evaluate model\r\n",
        "def evaluate(model, test_features, test_labels):\r\n",
        "    predictions = model.predict(test_features)\r\n",
        "    print('Model Performance')\r\n",
        "    print('Average Error: {:0.4f} degrees.'.format(mean_absolute_error(test_labels,predictions)))\r\n",
        "    print('Accuracy = {:0.2f}%.'.format(accuracy_score(test_labels,predictions)*100))\r\n",
        "\r\n",
        "    "
      ],
      "execution_count": 559,
      "outputs": []
    },
    {
      "cell_type": "code",
      "metadata": {
        "id": "PXT9EoVyPj5f",
        "colab": {
          "base_uri": "https://localhost:8080/"
        },
        "outputId": "712828b2-e53f-4642-b882-571d28074ccb"
      },
      "source": [
        "evaluate(svc,X_test,y_test)\r\n",
        "evaluate(svc2,X_test,y_test)\r\n",
        "evaluate(rfc,X_test,y_test)\r\n",
        "evaluate(ada_classifier,X_test,y_test)"
      ],
      "execution_count": 560,
      "outputs": [
        {
          "output_type": "stream",
          "text": [
            "Model Performance\n",
            "Average Error: 0.4042 degrees.\n",
            "Accuracy = 62.92%.\n",
            "Model Performance\n",
            "Average Error: 0.4229 degrees.\n",
            "Accuracy = 63.54%.\n",
            "Model Performance\n",
            "Average Error: 0.3438 degrees.\n",
            "Accuracy = 69.38%.\n",
            "Model Performance\n",
            "Average Error: 0.4979 degrees.\n",
            "Accuracy = 55.62%.\n"
          ],
          "name": "stdout"
        }
      ]
    },
    {
      "cell_type": "code",
      "metadata": {
        "id": "p6V4nYgnPmg2",
        "colab": {
          "base_uri": "https://localhost:8080/"
        },
        "outputId": "41ead5b1-f9fa-47d9-e168-e95877d0cdc2"
      },
      "source": [
        "#Cross Validation\r\n",
        "scores = cross_val_score(ada_classifier,X_test,y_test, cv=5)\r\n",
        "scores.mean()"
      ],
      "execution_count": 561,
      "outputs": [
        {
          "output_type": "execute_result",
          "data": {
            "text/plain": [
              "0.4875"
            ]
          },
          "metadata": {
            "tags": []
          },
          "execution_count": 561
        }
      ]
    },
    {
      "cell_type": "markdown",
      "metadata": {
        "id": "O-Se0pRf3vX5"
      },
      "source": [
        "# **Evaluation**"
      ]
    },
    {
      "cell_type": "markdown",
      "metadata": {
        "id": "MJm9m37QVlTz"
      },
      "source": [
        "Box plots of (SVC ,RFC )algorithm’s close together that corresponds to the high density of accuracy scores.\r\n",
        "Best performing model RFC. "
      ]
    }
  ]
}