{
  "nbformat": 4,
  "nbformat_minor": 0,
  "metadata": {
    "colab": {
      "name": "Hw3.ipynb",
      "provenance": [],
      "collapsed_sections": [],
      "include_colab_link": true
    },
    "kernelspec": {
      "display_name": "Python 3",
      "name": "python3"
    }
  },
  "cells": [
    {
      "cell_type": "markdown",
      "metadata": {
        "id": "view-in-github",
        "colab_type": "text"
      },
      "source": [
        "<a href=\"https://colab.research.google.com/github/canaytsr/GlobalAIHubMLCourse/blob/main/Homeworks/Hw3.ipynb\" target=\"_parent\"><img src=\"https://colab.research.google.com/assets/colab-badge.svg\" alt=\"Open In Colab\"/></a>"
      ]
    },
    {
      "cell_type": "code",
      "metadata": {
        "colab": {
          "base_uri": "https://localhost:8080/"
        },
        "id": "KlL0UhFJXDsR",
        "outputId": "a40da188-6462-431e-c59c-abf7b0f303fe"
      },
      "source": [
        "#Generate dataset using make_blobs function in the sklearn.datasets class. Generate 2000 samples with 3 features (X) with one label (y)\n",
        "from sklearn.datasets import make_blobs\n",
        "X, y = make_blobs(n_samples=2000, centers=3, n_features=3,random_state=0)\n",
        "print(X.shape)\n",
        "#print(X)\n",
        "print(y)\n"
      ],
      "execution_count": null,
      "outputs": [
        {
          "output_type": "stream",
          "text": [
            "(2000, 3)\n",
            "[1 2 1 ... 1 2 1]\n"
          ],
          "name": "stdout"
        }
      ]
    },
    {
      "cell_type": "code",
      "metadata": {
        "colab": {
          "base_uri": "https://localhost:8080/",
          "height": 1000
        },
        "id": "-vERNj3KYPH-",
        "outputId": "fb16bbab-470f-4391-f4e5-280ee8ab434d"
      },
      "source": [
        "#Explore and analyse raw data.\n",
        "import pandas as pd\n",
        "import seaborn as sns\n",
        "import numpy as np\n",
        "from pandas import DataFrame\n",
        "import matplotlib.pyplot as plt\n",
        "from sklearn.neighbors import KNeighborsClassifier\n",
        "from sklearn.preprocessing import LabelEncoder\n",
        "\n",
        "data = DataFrame(dict(x=X[:,0], y=X[:,1],z=X[:,2], label=y))\n",
        "print(data)\n",
        "print(data.head())\n",
        "print(data.info())\n",
        "\n",
        "print(data.describe())\n",
        "print(data.info())\n",
        "print(data.isna().sum())\n",
        "print(data.groupby(by=\"label\").count())\n",
        "\n",
        "#Missing Values\n",
        "print(data.dropna())\n",
        "print(data.isnull().sum())\n",
        "\n",
        "# plot 1\n",
        "X1, y1 = make_blobs(n_features=2, centers=1)\n",
        "plt.figure()\n",
        "plt.scatter(X1[:, 0], X1[:, 1], c=y1)\n",
        "plt.savefig('centers_1.png')\n",
        "plt.title('centers = 1')\n",
        "\n",
        "# plot 2    \n",
        "X2, y2 = make_blobs(n_features=2, centers=2)\n",
        "plt.figure()\n",
        "plt.scatter(X2[:, 0], X2[:, 1], c=y2)\n",
        "plt.title('centers = 2')\n",
        "\n",
        "#plot3\n",
        "X3, y3 = make_blobs(n_features=2, centers=3)\n",
        "plt.figure()\n",
        "plt.scatter(X3[:, 0], X3[:, 1], c=y3)\n",
        "plt.title('centers = 3')\n",
        "\n",
        "plt.show()\n"
      ],
      "execution_count": null,
      "outputs": [
        {
          "output_type": "stream",
          "text": [
            "             x         y         z  label\n",
            "0     0.378197 -0.822654  4.412505      1\n",
            "1     0.112908  8.072768  9.914998      2\n",
            "2     1.875986 -2.862337  1.955307      1\n",
            "3    -1.210594  6.876798  9.223306      2\n",
            "4     2.095730  3.335208  3.288496      0\n",
            "...        ...       ...       ...    ...\n",
            "1995  1.400683  5.393096  1.671082      0\n",
            "1996 -2.237195  6.910680  8.794924      2\n",
            "1997  1.582651 -0.526795  2.355266      1\n",
            "1998 -1.033492  8.516043  9.546055      2\n",
            "1999  2.269996 -2.522649  1.755616      1\n",
            "\n",
            "[2000 rows x 4 columns]\n",
            "          x         y         z  label\n",
            "0  0.378197 -0.822654  4.412505      1\n",
            "1  0.112908  8.072768  9.914998      2\n",
            "2  1.875986 -2.862337  1.955307      1\n",
            "3 -1.210594  6.876798  9.223306      2\n",
            "4  2.095730  3.335208  3.288496      0\n",
            "<class 'pandas.core.frame.DataFrame'>\n",
            "RangeIndex: 2000 entries, 0 to 1999\n",
            "Data columns (total 4 columns):\n",
            " #   Column  Non-Null Count  Dtype  \n",
            "---  ------  --------------  -----  \n",
            " 0   x       2000 non-null   float64\n",
            " 1   y       2000 non-null   float64\n",
            " 2   z       2000 non-null   float64\n",
            " 3   label   2000 non-null   int64  \n",
            "dtypes: float64(3), int64(1)\n",
            "memory usage: 62.6 KB\n",
            "None\n",
            "                 x            y            z        label\n",
            "count  2000.000000  2000.000000  2000.000000  2000.000000\n",
            "mean      0.240772     3.493821     4.739933     0.999500\n",
            "std       1.420266     4.002951     3.407143     0.816599\n",
            "min      -4.365209    -5.351844    -1.459501     0.000000\n",
            "25%      -0.758331    -0.964595     2.115543     0.000000\n",
            "50%       0.381250     4.278380     3.208216     1.000000\n",
            "75%       1.244579     7.137660     8.649354     2.000000\n",
            "max       4.077801    11.046691    12.079492     2.000000\n",
            "<class 'pandas.core.frame.DataFrame'>\n",
            "RangeIndex: 2000 entries, 0 to 1999\n",
            "Data columns (total 4 columns):\n",
            " #   Column  Non-Null Count  Dtype  \n",
            "---  ------  --------------  -----  \n",
            " 0   x       2000 non-null   float64\n",
            " 1   y       2000 non-null   float64\n",
            " 2   z       2000 non-null   float64\n",
            " 3   label   2000 non-null   int64  \n",
            "dtypes: float64(3), int64(1)\n",
            "memory usage: 62.6 KB\n",
            "None\n",
            "x        0\n",
            "y        0\n",
            "z        0\n",
            "label    0\n",
            "dtype: int64\n",
            "         x    y    z\n",
            "label               \n",
            "0      667  667  667\n",
            "1      667  667  667\n",
            "2      666  666  666\n",
            "             x         y         z  label\n",
            "0     0.378197 -0.822654  4.412505      1\n",
            "1     0.112908  8.072768  9.914998      2\n",
            "2     1.875986 -2.862337  1.955307      1\n",
            "3    -1.210594  6.876798  9.223306      2\n",
            "4     2.095730  3.335208  3.288496      0\n",
            "...        ...       ...       ...    ...\n",
            "1995  1.400683  5.393096  1.671082      0\n",
            "1996 -2.237195  6.910680  8.794924      2\n",
            "1997  1.582651 -0.526795  2.355266      1\n",
            "1998 -1.033492  8.516043  9.546055      2\n",
            "1999  2.269996 -2.522649  1.755616      1\n",
            "\n",
            "[2000 rows x 4 columns]\n",
            "x        0\n",
            "y        0\n",
            "z        0\n",
            "label    0\n",
            "dtype: int64\n"
          ],
          "name": "stdout"
        },
        {
          "output_type": "display_data",
          "data": {
            "image/png": "[encoded data removed]",
            "text/plain": [
              "<Figure size 432x288 with 1 Axes>"
            ]
          },
          "metadata": {
            "tags": [],
            "needs_background": "light"
          }
        },
        {
          "output_type": "display_data",
          "data": {
            "image/png": "[encoded data removed]",
            "text/plain": [
              "<Figure size 432x288 with 1 Axes>"
            ]
          },
          "metadata": {
            "tags": [],
            "needs_background": "light"
          }
        },
        {
          "output_type": "display_data",
          "data": {
            "image/png": "[encoded data removed]",
            "text/plain": [
              "<Figure size 432x288 with 1 Axes>"
            ]
          },
          "metadata": {
            "tags": [],
            "needs_background": "light"
          }
        }
      ]
    },
    {
      "cell_type": "code",
      "metadata": {
        "colab": {
          "base_uri": "https://localhost:8080/"
        },
        "id": "hx-ybAIvYsNK",
        "outputId": "3d862df1-78bf-4fec-a583-843286ca3fae"
      },
      "source": [
        "#Do preprocessing for classification.\n",
        "\n",
        "from sklearn.preprocessing import LabelEncoder\n",
        "from sklearn.metrics import accuracy_score\n",
        "\n",
        "label_encoder = LabelEncoder()\n",
        "data[\"Label\"] = label_encoder.fit_transform(data[\"label\"]) \n",
        "data[\"Label\"].value_counts()\n",
        "print(data.head())\n",
        "\n",
        "categories = list(label_encoder.inverse_transform([0, 1, 2]))\n",
        "categories\n",
        "\n",
        "#X, y = data.iloc[: , :-1], data.iloc[: , -1]\n",
        "\n"
      ],
      "execution_count": null,
      "outputs": [
        {
          "output_type": "stream",
          "text": [
            "          x         y         z  label  Label\n",
            "0  0.378197 -0.822654  4.412505      1      1\n",
            "1  0.112908  8.072768  9.914998      2      2\n",
            "2  1.875986 -2.862337  1.955307      1      1\n",
            "3 -1.210594  6.876798  9.223306      2      2\n",
            "4  2.095730  3.335208  3.288496      0      0\n"
          ],
          "name": "stdout"
        },
        {
          "output_type": "execute_result",
          "data": {
            "text/plain": [
              "[0, 1, 2]"
            ]
          },
          "metadata": {
            "tags": []
          },
          "execution_count": 5
        }
      ]
    },
    {
      "cell_type": "code",
      "metadata": {
        "colab": {
          "base_uri": "https://localhost:8080/"
        },
        "id": "90fO9DKNYtnI",
        "outputId": "f0cf2edc-190e-44eb-d96b-162d67a0625f"
      },
      "source": [
        "#Split your dataset into train and test test (0.7 for train and 0.3 for test).\n",
        "\n",
        "from sklearn.model_selection import train_test_split\n",
        "from sklearn import svm\n",
        "X_train, X_test, y_train,y_test=train_test_split(X, y,train_size=0.7, test_size=0.3, random_state=123) \n",
        "print(X_train)\n"
      ],
      "execution_count": null,
      "outputs": [
        {
          "output_type": "stream",
          "text": [
            "[[ 1.08461963  4.5654558   1.14051219]\n",
            " [ 2.69848778  4.7648368   2.87241647]\n",
            " [ 3.08640284 -1.06540176  4.0879479 ]\n",
            " ...\n",
            " [ 0.3602126  -0.84412369  1.71695525]\n",
            " [-0.13722449  7.48027067 10.23703453]\n",
            " [-2.19773826  6.19251268 10.08648907]]\n"
          ],
          "name": "stdout"
        }
      ]
    },
    {
      "cell_type": "code",
      "metadata": {
        "colab": {
          "base_uri": "https://localhost:8080/"
        },
        "id": "y9m8HETh88OY",
        "outputId": "736889d3-cb84-4447-f84f-ff84e13f5d2a"
      },
      "source": [
        "#Decision Tree\n",
        "from sklearn.tree import DecisionTreeClassifier\n",
        "clf = DecisionTreeClassifier(max_depth=4, random_state=42)\n",
        "clf.fit(X_train,y_train)\n",
        "\n",
        "print(\"Accuracy of train:\",clf.score(X_train,y_train))\n",
        "print(\"Accuracy of test:\",clf.score(X_test,y_test)) \n",
        "BiasTr = 1-(clf.score(X_train,y_train))\n",
        "BiasTs = 1-(clf.score(X_test,y_test))\n",
        "print(\"Bias for training = \",BiasTr)\n",
        "print(\"Bias for test = \",BiasTs)\n",
        "print(\"Variance = test bias - training bias = \", BiasTs-BiasTr,\"\\n\")\n",
        "\n",
        "# Classification Report\n",
        "from sklearn.metrics import precision_score, recall_score, accuracy_score, classification_report, f1_score\n",
        "pred = clf.predict(X_test)\n",
        "print(classification_report(y_test,pred))"
      ],
      "execution_count": null,
      "outputs": [
        {
          "output_type": "stream",
          "text": [
            "Accuracy of train: 1.0\n",
            "Accuracy of test: 0.9983333333333333\n",
            "Bias for training =  0.0\n",
            "Bias for test =  0.0016666666666667052\n",
            "Variance = test bias - training bias =  0.0016666666666667052 \n",
            "\n",
            "              precision    recall  f1-score   support\n",
            "\n",
            "           0       1.00      0.99      1.00       196\n",
            "           1       1.00      1.00      1.00       201\n",
            "           2       1.00      1.00      1.00       203\n",
            "\n",
            "    accuracy                           1.00       600\n",
            "   macro avg       1.00      1.00      1.00       600\n",
            "weighted avg       1.00      1.00      1.00       600\n",
            "\n"
          ],
          "name": "stdout"
        }
      ]
    },
    {
      "cell_type": "code",
      "metadata": {
        "colab": {
          "base_uri": "https://localhost:8080/"
        },
        "id": "-ac9IpyILmt4",
        "outputId": "d7c0bc18-af6c-44f4-f90f-436a1d70df40"
      },
      "source": [
        "#Evaluate model pipeline on test data\n",
        "from sklearn.metrics import mean_squared_error, r2_score\n",
        "y_pred = clf.predict(X_test)\n",
        "print(r2_score(y_test, y_pred))\n",
        " \n",
        "print (mean_squared_error(y_test, y_pred))"
      ],
      "execution_count": null,
      "outputs": [
        {
          "output_type": "stream",
          "text": [
            "0.9974932212524702\n",
            "0.0016666666666666668\n"
          ],
          "name": "stdout"
        }
      ]
    },
    {
      "cell_type": "code",
      "metadata": {
        "colab": {
          "base_uri": "https://localhost:8080/",
          "height": 757
        },
        "id": "bRV3JERc4B8K",
        "outputId": "5b6c7474-0ea3-42ed-b95a-05e6513f6602"
      },
      "source": [
        "import os\n",
        "from sklearn.tree import export_graphviz\n",
        "import graphviz\n",
        "classes = ['0', '1', '2']\n",
        "dot_data = export_graphviz(clf, out_file=None,\n",
        "                     class_names=classes,\n",
        "                     filled=True, rounded=True\n",
        "                    )\n",
        "graph = graphviz.Source(dot_data)\n",
        "graph"
      ],
      "execution_count": null,
      "outputs": [
        {
          "output_type": "execute_result",
          "data": {
            "text/plain": [
              "<graphviz.files.Source at 0x7fd6f6f66b70>"
            ],
            "image/svg+xml": "<?xml version=\"1.0\" encoding=\"UTF-8\" standalone=\"no\"?>\n<!DOCTYPE svg PUBLIC \"-//W3C//DTD SVG 1.1//EN\"\n \"http://www.w3.org/Graphics/SVG/1.1/DTD/svg11.dtd\">\n<!-- Generated by graphviz version 2.40.1 (20161225.0304)\n -->\n<!-- Title: Tree Pages: 1 -->\n<svg width=\"416pt\" height=\"552pt\"\n viewBox=\"0.00 0.00 416.00 552.00\" xmlns=\"http://www.w3.org/2000/svg\" xmlns:xlink=\"http://www.w3.org/1999/xlink\">\n<g id=\"graph0\" class=\"graph\" transform=\"scale(1 1) rotate(0) translate(4 548)\">\n<title>Tree</title>\n<polygon fill=\"#ffffff\" stroke=\"transparent\" points=\"-4,4 -4,-548 412,-548 412,4 -4,4\"/>\n<!-- 0 -->\n<g id=\"node1\" class=\"node\">\n<title>0</title>\n<path fill=\"#fffefe\" stroke=\"#000000\" d=\"M259.5,-544C259.5,-544 119.5,-544 119.5,-544 113.5,-544 107.5,-538 107.5,-532 107.5,-532 107.5,-473 107.5,-473 107.5,-467 113.5,-461 119.5,-461 119.5,-461 259.5,-461 259.5,-461 265.5,-461 271.5,-467 271.5,-473 271.5,-473 271.5,-532 271.5,-532 271.5,-538 265.5,-544 259.5,-544\"/>\n<text text-anchor=\"middle\" x=\"189.5\" y=\"-528.8\" font-family=\"Helvetica,sans-Serif\" font-size=\"14.00\" fill=\"#000000\">X[1] &lt;= 1.276</text>\n<text text-anchor=\"middle\" x=\"189.5\" y=\"-513.8\" font-family=\"Helvetica,sans-Serif\" font-size=\"14.00\" fill=\"#000000\">gini = 0.667</text>\n<text text-anchor=\"middle\" x=\"189.5\" y=\"-498.8\" font-family=\"Helvetica,sans-Serif\" font-size=\"14.00\" fill=\"#000000\">samples = 1400</text>\n<text text-anchor=\"middle\" x=\"189.5\" y=\"-483.8\" font-family=\"Helvetica,sans-Serif\" font-size=\"14.00\" fill=\"#000000\">value = [471, 466, 463]</text>\n<text text-anchor=\"middle\" x=\"189.5\" y=\"-468.8\" font-family=\"Helvetica,sans-Serif\" font-size=\"14.00\" fill=\"#000000\">class = 0</text>\n</g>\n<!-- 1 -->\n<g id=\"node2\" class=\"node\">\n<title>1</title>\n<path fill=\"#39e581\" stroke=\"#000000\" d=\"M164,-417.5C164,-417.5 57,-417.5 57,-417.5 51,-417.5 45,-411.5 45,-405.5 45,-405.5 45,-361.5 45,-361.5 45,-355.5 51,-349.5 57,-349.5 57,-349.5 164,-349.5 164,-349.5 170,-349.5 176,-355.5 176,-361.5 176,-361.5 176,-405.5 176,-405.5 176,-411.5 170,-417.5 164,-417.5\"/>\n<text text-anchor=\"middle\" x=\"110.5\" y=\"-402.3\" font-family=\"Helvetica,sans-Serif\" font-size=\"14.00\" fill=\"#000000\">gini = 0.0</text>\n<text text-anchor=\"middle\" x=\"110.5\" y=\"-387.3\" font-family=\"Helvetica,sans-Serif\" font-size=\"14.00\" fill=\"#000000\">samples = 465</text>\n<text text-anchor=\"middle\" x=\"110.5\" y=\"-372.3\" font-family=\"Helvetica,sans-Serif\" font-size=\"14.00\" fill=\"#000000\">value = [0, 465, 0]</text>\n<text text-anchor=\"middle\" x=\"110.5\" y=\"-357.3\" font-family=\"Helvetica,sans-Serif\" font-size=\"14.00\" fill=\"#000000\">class = 1</text>\n</g>\n<!-- 0&#45;&gt;1 -->\n<g id=\"edge1\" class=\"edge\">\n<title>0&#45;&gt;1</title>\n<path fill=\"none\" stroke=\"#000000\" d=\"M161.8696,-460.8796C154.4237,-449.6636 146.3575,-437.5131 138.8718,-426.2372\"/>\n<polygon fill=\"#000000\" stroke=\"#000000\" points=\"141.7273,-424.2104 133.2805,-417.8149 135.8954,-428.082 141.7273,-424.2104\"/>\n<text text-anchor=\"middle\" x=\"128.33\" y=\"-438.6199\" font-family=\"Helvetica,sans-Serif\" font-size=\"14.00\" fill=\"#000000\">True</text>\n</g>\n<!-- 2 -->\n<g id=\"node3\" class=\"node\">\n<title>2</title>\n<path fill=\"#fffdfc\" stroke=\"#000000\" d=\"M330.5,-425C330.5,-425 206.5,-425 206.5,-425 200.5,-425 194.5,-419 194.5,-413 194.5,-413 194.5,-354 194.5,-354 194.5,-348 200.5,-342 206.5,-342 206.5,-342 330.5,-342 330.5,-342 336.5,-342 342.5,-348 342.5,-354 342.5,-354 342.5,-413 342.5,-413 342.5,-419 336.5,-425 330.5,-425\"/>\n<text text-anchor=\"middle\" x=\"268.5\" y=\"-409.8\" font-family=\"Helvetica,sans-Serif\" font-size=\"14.00\" fill=\"#000000\">X[2] &lt;= 5.264</text>\n<text text-anchor=\"middle\" x=\"268.5\" y=\"-394.8\" font-family=\"Helvetica,sans-Serif\" font-size=\"14.00\" fill=\"#000000\">gini = 0.501</text>\n<text text-anchor=\"middle\" x=\"268.5\" y=\"-379.8\" font-family=\"Helvetica,sans-Serif\" font-size=\"14.00\" fill=\"#000000\">samples = 935</text>\n<text text-anchor=\"middle\" x=\"268.5\" y=\"-364.8\" font-family=\"Helvetica,sans-Serif\" font-size=\"14.00\" fill=\"#000000\">value = [471, 1, 463]</text>\n<text text-anchor=\"middle\" x=\"268.5\" y=\"-349.8\" font-family=\"Helvetica,sans-Serif\" font-size=\"14.00\" fill=\"#000000\">class = 0</text>\n</g>\n<!-- 0&#45;&gt;2 -->\n<g id=\"edge2\" class=\"edge\">\n<title>0&#45;&gt;2</title>\n<path fill=\"none\" stroke=\"#000000\" d=\"M217.1304,-460.8796C222.93,-452.1434 229.1059,-442.8404 235.0908,-433.8253\"/>\n<polygon fill=\"#000000\" stroke=\"#000000\" points=\"238.1368,-435.5652 240.7517,-425.2981 232.3049,-431.6935 238.1368,-435.5652\"/>\n<text text-anchor=\"middle\" x=\"245.7022\" y=\"-446.103\" font-family=\"Helvetica,sans-Serif\" font-size=\"14.00\" fill=\"#000000\">False</text>\n</g>\n<!-- 3 -->\n<g id=\"node4\" class=\"node\">\n<title>3</title>\n<path fill=\"#e58139\" stroke=\"#000000\" d=\"M247,-306C247,-306 140,-306 140,-306 134,-306 128,-300 128,-294 128,-294 128,-235 128,-235 128,-229 134,-223 140,-223 140,-223 247,-223 247,-223 253,-223 259,-229 259,-235 259,-235 259,-294 259,-294 259,-300 253,-306 247,-306\"/>\n<text text-anchor=\"middle\" x=\"193.5\" y=\"-290.8\" font-family=\"Helvetica,sans-Serif\" font-size=\"14.00\" fill=\"#000000\">X[1] &lt;= 1.92</text>\n<text text-anchor=\"middle\" x=\"193.5\" y=\"-275.8\" font-family=\"Helvetica,sans-Serif\" font-size=\"14.00\" fill=\"#000000\">gini = 0.004</text>\n<text text-anchor=\"middle\" x=\"193.5\" y=\"-260.8\" font-family=\"Helvetica,sans-Serif\" font-size=\"14.00\" fill=\"#000000\">samples = 472</text>\n<text text-anchor=\"middle\" x=\"193.5\" y=\"-245.8\" font-family=\"Helvetica,sans-Serif\" font-size=\"14.00\" fill=\"#000000\">value = [471, 1, 0]</text>\n<text text-anchor=\"middle\" x=\"193.5\" y=\"-230.8\" font-family=\"Helvetica,sans-Serif\" font-size=\"14.00\" fill=\"#000000\">class = 0</text>\n</g>\n<!-- 2&#45;&gt;3 -->\n<g id=\"edge3\" class=\"edge\">\n<title>2&#45;&gt;3</title>\n<path fill=\"none\" stroke=\"#000000\" d=\"M242.2686,-341.8796C236.7627,-333.1434 230.8994,-323.8404 225.2176,-314.8253\"/>\n<polygon fill=\"#000000\" stroke=\"#000000\" points=\"228.1363,-312.8919 219.8433,-306.2981 222.2143,-316.6242 228.1363,-312.8919\"/>\n</g>\n<!-- 8 -->\n<g id=\"node9\" class=\"node\">\n<title>8</title>\n<path fill=\"#8139e5\" stroke=\"#000000\" d=\"M396,-298.5C396,-298.5 289,-298.5 289,-298.5 283,-298.5 277,-292.5 277,-286.5 277,-286.5 277,-242.5 277,-242.5 277,-236.5 283,-230.5 289,-230.5 289,-230.5 396,-230.5 396,-230.5 402,-230.5 408,-236.5 408,-242.5 408,-242.5 408,-286.5 408,-286.5 408,-292.5 402,-298.5 396,-298.5\"/>\n<text text-anchor=\"middle\" x=\"342.5\" y=\"-283.3\" font-family=\"Helvetica,sans-Serif\" font-size=\"14.00\" fill=\"#000000\">gini = 0.0</text>\n<text text-anchor=\"middle\" x=\"342.5\" y=\"-268.3\" font-family=\"Helvetica,sans-Serif\" font-size=\"14.00\" fill=\"#000000\">samples = 463</text>\n<text text-anchor=\"middle\" x=\"342.5\" y=\"-253.3\" font-family=\"Helvetica,sans-Serif\" font-size=\"14.00\" fill=\"#000000\">value = [0, 0, 463]</text>\n<text text-anchor=\"middle\" x=\"342.5\" y=\"-238.3\" font-family=\"Helvetica,sans-Serif\" font-size=\"14.00\" fill=\"#000000\">class = 2</text>\n</g>\n<!-- 2&#45;&gt;8 -->\n<g id=\"edge8\" class=\"edge\">\n<title>2&#45;&gt;8</title>\n<path fill=\"none\" stroke=\"#000000\" d=\"M294.3816,-341.8796C301.2879,-330.7735 308.7639,-318.7513 315.7175,-307.5691\"/>\n<polygon fill=\"#000000\" stroke=\"#000000\" points=\"318.8527,-309.1552 321.1613,-298.8149 312.9083,-305.4587 318.8527,-309.1552\"/>\n</g>\n<!-- 4 -->\n<g id=\"node5\" class=\"node\">\n<title>4</title>\n<path fill=\"#ffffff\" stroke=\"#000000\" d=\"M169,-187C169,-187 78,-187 78,-187 72,-187 66,-181 66,-175 66,-175 66,-116 66,-116 66,-110 72,-104 78,-104 78,-104 169,-104 169,-104 175,-104 181,-110 181,-116 181,-116 181,-175 181,-175 181,-181 175,-187 169,-187\"/>\n<text text-anchor=\"middle\" x=\"123.5\" y=\"-171.8\" font-family=\"Helvetica,sans-Serif\" font-size=\"14.00\" fill=\"#000000\">X[2] &lt;= 3.237</text>\n<text text-anchor=\"middle\" x=\"123.5\" y=\"-156.8\" font-family=\"Helvetica,sans-Serif\" font-size=\"14.00\" fill=\"#000000\">gini = 0.5</text>\n<text text-anchor=\"middle\" x=\"123.5\" y=\"-141.8\" font-family=\"Helvetica,sans-Serif\" font-size=\"14.00\" fill=\"#000000\">samples = 2</text>\n<text text-anchor=\"middle\" x=\"123.5\" y=\"-126.8\" font-family=\"Helvetica,sans-Serif\" font-size=\"14.00\" fill=\"#000000\">value = [1, 1, 0]</text>\n<text text-anchor=\"middle\" x=\"123.5\" y=\"-111.8\" font-family=\"Helvetica,sans-Serif\" font-size=\"14.00\" fill=\"#000000\">class = 0</text>\n</g>\n<!-- 3&#45;&gt;4 -->\n<g id=\"edge4\" class=\"edge\">\n<title>3&#45;&gt;4</title>\n<path fill=\"none\" stroke=\"#000000\" d=\"M169.0174,-222.8796C163.9315,-214.2335 158.5189,-205.0322 153.2672,-196.1042\"/>\n<polygon fill=\"#000000\" stroke=\"#000000\" points=\"156.1741,-194.1428 148.0871,-187.2981 150.1406,-197.692 156.1741,-194.1428\"/>\n</g>\n<!-- 7 -->\n<g id=\"node8\" class=\"node\">\n<title>7</title>\n<path fill=\"#e58139\" stroke=\"#000000\" d=\"M318,-179.5C318,-179.5 211,-179.5 211,-179.5 205,-179.5 199,-173.5 199,-167.5 199,-167.5 199,-123.5 199,-123.5 199,-117.5 205,-111.5 211,-111.5 211,-111.5 318,-111.5 318,-111.5 324,-111.5 330,-117.5 330,-123.5 330,-123.5 330,-167.5 330,-167.5 330,-173.5 324,-179.5 318,-179.5\"/>\n<text text-anchor=\"middle\" x=\"264.5\" y=\"-164.3\" font-family=\"Helvetica,sans-Serif\" font-size=\"14.00\" fill=\"#000000\">gini = 0.0</text>\n<text text-anchor=\"middle\" x=\"264.5\" y=\"-149.3\" font-family=\"Helvetica,sans-Serif\" font-size=\"14.00\" fill=\"#000000\">samples = 470</text>\n<text text-anchor=\"middle\" x=\"264.5\" y=\"-134.3\" font-family=\"Helvetica,sans-Serif\" font-size=\"14.00\" fill=\"#000000\">value = [470, 0, 0]</text>\n<text text-anchor=\"middle\" x=\"264.5\" y=\"-119.3\" font-family=\"Helvetica,sans-Serif\" font-size=\"14.00\" fill=\"#000000\">class = 0</text>\n</g>\n<!-- 3&#45;&gt;7 -->\n<g id=\"edge7\" class=\"edge\">\n<title>3&#45;&gt;7</title>\n<path fill=\"none\" stroke=\"#000000\" d=\"M218.3324,-222.8796C224.9587,-211.7735 232.1316,-199.7513 238.8033,-188.5691\"/>\n<polygon fill=\"#000000\" stroke=\"#000000\" points=\"241.9083,-190.1959 244.0264,-179.8149 235.8969,-186.6093 241.9083,-190.1959\"/>\n</g>\n<!-- 5 -->\n<g id=\"node6\" class=\"node\">\n<title>5</title>\n<path fill=\"#39e581\" stroke=\"#000000\" d=\"M103,-68C103,-68 12,-68 12,-68 6,-68 0,-62 0,-56 0,-56 0,-12 0,-12 0,-6 6,0 12,0 12,0 103,0 103,0 109,0 115,-6 115,-12 115,-12 115,-56 115,-56 115,-62 109,-68 103,-68\"/>\n<text text-anchor=\"middle\" x=\"57.5\" y=\"-52.8\" font-family=\"Helvetica,sans-Serif\" font-size=\"14.00\" fill=\"#000000\">gini = 0.0</text>\n<text text-anchor=\"middle\" x=\"57.5\" y=\"-37.8\" font-family=\"Helvetica,sans-Serif\" font-size=\"14.00\" fill=\"#000000\">samples = 1</text>\n<text text-anchor=\"middle\" x=\"57.5\" y=\"-22.8\" font-family=\"Helvetica,sans-Serif\" font-size=\"14.00\" fill=\"#000000\">value = [0, 1, 0]</text>\n<text text-anchor=\"middle\" x=\"57.5\" y=\"-7.8\" font-family=\"Helvetica,sans-Serif\" font-size=\"14.00\" fill=\"#000000\">class = 1</text>\n</g>\n<!-- 4&#45;&gt;5 -->\n<g id=\"edge5\" class=\"edge\">\n<title>4&#45;&gt;5</title>\n<path fill=\"none\" stroke=\"#000000\" d=\"M98.924,-103.9815C93.7014,-95.1585 88.1771,-85.8258 82.9237,-76.9506\"/>\n<polygon fill=\"#000000\" stroke=\"#000000\" points=\"85.8874,-75.0863 77.7816,-68.2637 79.8636,-78.652 85.8874,-75.0863\"/>\n</g>\n<!-- 6 -->\n<g id=\"node7\" class=\"node\">\n<title>6</title>\n<path fill=\"#e58139\" stroke=\"#000000\" d=\"M236,-68C236,-68 145,-68 145,-68 139,-68 133,-62 133,-56 133,-56 133,-12 133,-12 133,-6 139,0 145,0 145,0 236,0 236,0 242,0 248,-6 248,-12 248,-12 248,-56 248,-56 248,-62 242,-68 236,-68\"/>\n<text text-anchor=\"middle\" x=\"190.5\" y=\"-52.8\" font-family=\"Helvetica,sans-Serif\" font-size=\"14.00\" fill=\"#000000\">gini = 0.0</text>\n<text text-anchor=\"middle\" x=\"190.5\" y=\"-37.8\" font-family=\"Helvetica,sans-Serif\" font-size=\"14.00\" fill=\"#000000\">samples = 1</text>\n<text text-anchor=\"middle\" x=\"190.5\" y=\"-22.8\" font-family=\"Helvetica,sans-Serif\" font-size=\"14.00\" fill=\"#000000\">value = [1, 0, 0]</text>\n<text text-anchor=\"middle\" x=\"190.5\" y=\"-7.8\" font-family=\"Helvetica,sans-Serif\" font-size=\"14.00\" fill=\"#000000\">class = 0</text>\n</g>\n<!-- 4&#45;&gt;6 -->\n<g id=\"edge6\" class=\"edge\">\n<title>4&#45;&gt;6</title>\n<path fill=\"none\" stroke=\"#000000\" d=\"M148.4483,-103.9815C153.7501,-95.1585 159.3581,-85.8258 164.6911,-76.9506\"/>\n<polygon fill=\"#000000\" stroke=\"#000000\" points=\"167.7605,-78.638 169.9111,-68.2637 161.7604,-75.0325 167.7605,-78.638\"/>\n</g>\n</g>\n</svg>\n"
          },
          "metadata": {
            "tags": []
          },
          "execution_count": 9
        }
      ]
    },
    {
      "cell_type": "code",
      "metadata": {
        "colab": {
          "base_uri": "https://localhost:8080/"
        },
        "id": "3N7P-V66HMRn",
        "outputId": "2eca9684-5332-4312-b179-67ea6a1414fc"
      },
      "source": [
        "#XGBoos\n",
        "import xgboost as xgb\n",
        "\n",
        "dmatrix_train = xgb.DMatrix(data=X_train, label=y_train)\n",
        "dmatrix_test = xgb.DMatrix(data=X_test, label=y_test)\n",
        "\n",
        "param = {'max_depth':3, \n",
        "         'eta':1, \n",
        "         'objective':'multi:softprob', \n",
        "         'num_class':3}\n",
        "\n",
        "num_round = 5\n",
        "model = xgb.train(param, dmatrix_train, num_round)\n",
        "preds = model.predict(dmatrix_test)\n",
        "preds[:5]"
      ],
      "execution_count": null,
      "outputs": [
        {
          "output_type": "execute_result",
          "data": {
            "text/plain": [
              "array([[0.9963404 , 0.00182813, 0.00183146],\n",
              "       [0.9963404 , 0.00182813, 0.00183146],\n",
              "       [0.00199098, 0.9961791 , 0.00182992],\n",
              "       [0.00199098, 0.9961791 , 0.00182992],\n",
              "       [0.00199869, 0.00184728, 0.996154  ]], dtype=float32)"
            ]
          },
          "metadata": {
            "tags": []
          },
          "execution_count": 10
        }
      ]
    },
    {
      "cell_type": "code",
      "metadata": {
        "colab": {
          "base_uri": "https://localhost:8080/"
        },
        "id": "KaAtCyc3HNWP",
        "outputId": "8f6e855c-2042-4611-c143-41f9ce431dfa"
      },
      "source": [
        "best_preds = np.asarray([np.argmax(line) for line in preds])\n",
        "best_preds\n"
      ],
      "execution_count": null,
      "outputs": [
        {
          "output_type": "execute_result",
          "data": {
            "text/plain": [
              "array([0, 0, 1, 1, 2, 0, 1, 2, 0, 0, 0, 1, 2, 1, 1, 1, 0, 0, 1, 2, 0, 2,\n",
              "       0, 0, 0, 1, 0, 0, 2, 0, 2, 1, 2, 0, 0, 1, 2, 1, 2, 1, 0, 0, 1, 0,\n",
              "       2, 2, 1, 2, 0, 0, 2, 2, 2, 0, 2, 1, 1, 1, 0, 2, 2, 0, 1, 1, 1, 2,\n",
              "       2, 1, 0, 2, 2, 0, 1, 1, 0, 2, 1, 2, 1, 2, 2, 1, 1, 1, 2, 0, 2, 1,\n",
              "       1, 1, 1, 0, 2, 2, 2, 1, 2, 2, 0, 2, 0, 1, 0, 1, 2, 1, 2, 0, 2, 1,\n",
              "       1, 1, 0, 1, 0, 1, 1, 2, 0, 2, 1, 2, 0, 1, 0, 0, 0, 2, 0, 0, 1, 2,\n",
              "       0, 1, 2, 2, 0, 0, 1, 2, 2, 1, 2, 2, 1, 2, 1, 0, 2, 0, 0, 0, 0, 2,\n",
              "       2, 1, 0, 0, 1, 1, 2, 0, 1, 2, 2, 0, 2, 2, 0, 0, 1, 1, 0, 0, 2, 2,\n",
              "       2, 1, 2, 2, 0, 2, 0, 1, 0, 2, 2, 1, 1, 0, 1, 0, 1, 1, 2, 1, 0, 0,\n",
              "       1, 1, 1, 2, 1, 0, 2, 2, 0, 2, 0, 2, 2, 2, 2, 2, 0, 0, 1, 1, 0, 0,\n",
              "       0, 1, 1, 2, 2, 1, 2, 1, 2, 1, 0, 2, 1, 1, 1, 0, 2, 2, 0, 1, 2, 2,\n",
              "       0, 1, 0, 0, 2, 1, 0, 1, 2, 1, 2, 2, 2, 1, 0, 0, 0, 1, 1, 2, 2, 1,\n",
              "       0, 0, 1, 0, 0, 0, 0, 1, 2, 2, 0, 1, 0, 2, 2, 0, 2, 1, 2, 0, 1, 1,\n",
              "       2, 0, 2, 2, 2, 2, 0, 1, 1, 1, 0, 1, 2, 0, 0, 2, 1, 1, 1, 1, 1, 2,\n",
              "       1, 0, 2, 0, 0, 1, 2, 2, 2, 1, 0, 2, 0, 0, 2, 1, 2, 1, 2, 1, 1, 0,\n",
              "       1, 2, 1, 2, 1, 1, 1, 1, 0, 1, 0, 0, 0, 0, 1, 0, 2, 2, 1, 2, 0, 2,\n",
              "       2, 0, 1, 0, 0, 2, 1, 2, 1, 2, 0, 1, 1, 1, 2, 2, 2, 1, 2, 2, 0, 1,\n",
              "       2, 1, 1, 2, 1, 1, 2, 1, 0, 2, 1, 0, 2, 2, 1, 1, 2, 0, 2, 0, 0, 1,\n",
              "       2, 0, 1, 1, 1, 0, 0, 2, 1, 2, 0, 2, 2, 2, 1, 0, 2, 1, 2, 2, 1, 1,\n",
              "       0, 0, 1, 2, 0, 1, 1, 1, 0, 0, 1, 1, 1, 2, 2, 0, 0, 0, 1, 2, 1, 0,\n",
              "       2, 0, 2, 1, 0, 1, 0, 0, 2, 1, 2, 1, 0, 2, 1, 2, 1, 1, 1, 2, 1, 0,\n",
              "       0, 0, 0, 0, 2, 0, 1, 1, 2, 0, 2, 2, 2, 0, 0, 2, 0, 0, 0, 2, 1, 2,\n",
              "       1, 2, 2, 1, 2, 1, 0, 0, 0, 0, 2, 1, 2, 2, 0, 2, 2, 1, 0, 0, 2, 1,\n",
              "       2, 1, 0, 2, 0, 2, 0, 1, 2, 2, 0, 0, 0, 1, 2, 0, 0, 2, 0, 1, 0, 2,\n",
              "       1, 0, 2, 1, 2, 0, 0, 2, 1, 2, 0, 1, 1, 1, 2, 1, 1, 2, 0, 0, 0, 1,\n",
              "       2, 0, 2, 1, 1, 2, 0, 0, 1, 1, 2, 0, 1, 0, 0, 2, 0, 2, 2, 1, 1, 2,\n",
              "       0, 0, 1, 1, 2, 0, 1, 2, 1, 0, 2, 0, 1, 1, 1, 1, 1, 1, 0, 2, 2, 0,\n",
              "       1, 0, 2, 2, 0, 0])"
            ]
          },
          "metadata": {
            "tags": []
          },
          "execution_count": 11
        }
      ]
    },
    {
      "cell_type": "code",
      "metadata": {
        "id": "9xKR_srfHNc4",
        "colab": {
          "base_uri": "https://localhost:8080/"
        },
        "outputId": "c8de7056-f723-41bc-90bf-53020cf6bb52"
      },
      "source": [
        "#Evaluate your result on both train and test set. Analyse if there is any underfitting or overfitting problem. Make your comments.\n",
        "from sklearn.metrics import precision_score, recall_score, accuracy_score, classification_report, f1_score\n",
        "pred = clf.predict(X_test)\n",
        "print(classification_report(y_test,pred))"
      ],
      "execution_count": null,
      "outputs": [
        {
          "output_type": "stream",
          "text": [
            "              precision    recall  f1-score   support\n",
            "\n",
            "           0       1.00      0.99      1.00       196\n",
            "           1       1.00      1.00      1.00       201\n",
            "           2       1.00      1.00      1.00       203\n",
            "\n",
            "    accuracy                           1.00       600\n",
            "   macro avg       1.00      1.00      1.00       600\n",
            "weighted avg       1.00      1.00      1.00       600\n",
            "\n"
          ],
          "name": "stdout"
        }
      ]
    },
    {
      "cell_type": "code",
      "metadata": {
        "id": "LfcXGF3UHNfs",
        "colab": {
          "base_uri": "https://localhost:8080/"
        },
        "outputId": "6b4b84b3-cd3d-4622-ba3e-b5129f1c7b17"
      },
      "source": [
        "print(\"Precision = {}\".format(precision_score(y_test, pred, average='macro')))\n",
        "print(\"Recall = {}\".format(recall_score(y_test, pred, average='macro')))\n",
        "print(\"Accuracy = {}\".format(accuracy_score(y_test, pred)))\n",
        "print(\"F1 Score = {}\".format(f1_score(y_test, pred,average='macro')))"
      ],
      "execution_count": null,
      "outputs": [
        {
          "output_type": "stream",
          "text": [
            "Precision = 0.9983498349834984\n",
            "Recall = 0.9982993197278912\n",
            "Accuracy = 0.9983333333333333\n",
            "F1 Score = 0.998320355221601\n"
          ],
          "name": "stdout"
        }
      ]
    },
    {
      "cell_type": "code",
      "metadata": {
        "id": "p95OnXXgHNiU"
      },
      "source": [
        "#There is not underfitting and overfitting problem.\n",
        "#Underfitting – High bias and low variance\n",
        "#Overfitting – High variance and low bias"
      ],
      "execution_count": null,
      "outputs": []
    }
  ]
}